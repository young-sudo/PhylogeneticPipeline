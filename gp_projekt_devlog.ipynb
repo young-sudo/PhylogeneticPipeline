{
 "cells": [
  {
   "cell_type": "markdown",
   "metadata": {},
   "source": [
    "# Tree Name Guide\n",
    "| Task          | Name                   | Description                                             |\n",
    "|---------------|------------------------|---------------------------------------------------------|\n",
    "| Base          | `ctree_np`             | Consensus tree no paralogs                              |\n",
    "|               | `stree_np`             | Supertree no paralogs                                   |\n",
    "| Bootstrap     | `bctree_np`            | Consensus tree with bootstrap verified trees no paralogs|\n",
    "|               | `bstree_np`            | Supertree with bootstrap verified trees no paralogs     |\n",
    "| Paralogs      | `stree_p`              | Supertree with paralogs                                 |\n",
    "| Final         | `ml_tree`              | ML \"ground truth\"/species/taxonomic tree                |\n",
    "| Other         | `trees_`               | Gene trees (`c`, `b`, `np`, `p` as above)               |\n",
    "|               | `tmp_`                 | Intermediate temporary tree(s) (for bootstrap)          |\n",
    "\n",
    "Co na wysyłkę:\n",
    "- [x] Skrypty, notatnik i Readme.md\n",
    "- [x] Dokument z opisem metod i wynikami (mini-raport)\n",
    "- [x] Prezentacja z opisem metod i wynikami\n",
    "- [x] Drzewa genów bez paralogów, drzewo gatunków, drzewa genów z paralogami, drzewa genów odfiltrowanych bootstrapem"
   ]
  },
  {
   "cell_type": "markdown",
   "metadata": {},
   "source": [
    "# Comparative Genomics - Project\n",
    "---\n",
    "by Younginn Park\n",
    "\n",
    "Implement and test a phylogenetic pipeline for calculating a set of gene trees and further, genome trees, starting from genomes with a division into genes. Custom ideas can be applied - to be discussed.\n",
    "\n",
    "## Part I. Proteomes\n",
    "Select a set of genomes. For example:\n",
    "- at least several genomes of closely related viruses (e.g., coronaviruses),\n",
    "- ~30 bacteria or archaea with a size measured in genes up to 5000,\n",
    "- at least 10 higher organisms; the number of genes can be slightly limited here,\n",
    "- a set of genomes from different kingdoms.\n",
    "\n",
    "Download the entire genomes from NCBI as lists of protein sequence (proteome) data. It is worth carefully considering which genomes to choose. In the project, demonstrate knowledge of the properties of the selected genomes.\n"
   ]
  },
  {
   "cell_type": "markdown",
   "metadata": {},
   "source": [
    "### Genome sequence sources\n",
    "\n",
    "21 *Streptococcus* and 2 *Lactococcus* bacterial species were selected from the article:\n",
    "\n",
    "[Molecular phylogeny and a taxonomic proposal for the genus Streptococcus by F. Póntigo, M. Moraga and S.V. Flores from Universidad de Chile](http://dx.doi.org/10.4238/2015.September.21.1)\n",
    "\n",
    "Proteomes were downloaded from NCBI datasets using:\n",
    "\n",
    "[NCBI Datasets Command Line Tool ver. 16.3.0](https://www.ncbi.nlm.nih.gov/datasets/docs/v2/download-and-install/)\n"
   ]
  },
  {
   "cell_type": "code",
   "execution_count": 8,
   "metadata": {},
   "outputs": [],
   "source": [
    "import pandas as pd\n",
    "\n",
    "pd.set_option('display.max_rows', None)"
   ]
  },
  {
   "cell_type": "code",
   "execution_count": 9,
   "metadata": {
    "vscode": {
     "languageId": "shellscript"
    }
   },
   "outputs": [],
   "source": [
    "\n",
    "# ./fetch_proteomes.sh"
   ]
  },
  {
   "cell_type": "code",
   "execution_count": 10,
   "metadata": {},
   "outputs": [
    {
     "data": {
      "text/html": [
       "<div>\n",
       "<style scoped>\n",
       "    .dataframe tbody tr th:only-of-type {\n",
       "        vertical-align: middle;\n",
       "    }\n",
       "\n",
       "    .dataframe tbody tr th {\n",
       "        vertical-align: top;\n",
       "    }\n",
       "\n",
       "    .dataframe thead th {\n",
       "        text-align: right;\n",
       "    }\n",
       "</style>\n",
       "<table border=\"1\" class=\"dataframe\">\n",
       "  <thead>\n",
       "    <tr style=\"text-align: right;\">\n",
       "      <th></th>\n",
       "      <th>raw_species</th>\n",
       "      <th>accessions</th>\n",
       "      <th>species</th>\n",
       "    </tr>\n",
       "  </thead>\n",
       "  <tbody>\n",
       "    <tr>\n",
       "      <th>0</th>\n",
       "      <td>Streptococcus ratti</td>\n",
       "      <td>GCF_008803015.1</td>\n",
       "      <td>Streptococcus ratti</td>\n",
       "    </tr>\n",
       "    <tr>\n",
       "      <th>1</th>\n",
       "      <td>Streptococcus downei MFe28</td>\n",
       "      <td>GCF_900459175.1</td>\n",
       "      <td>Streptococcus downei</td>\n",
       "    </tr>\n",
       "    <tr>\n",
       "      <th>2</th>\n",
       "      <td>Streptococcus devriesei DSM 19639</td>\n",
       "      <td>GCF_000423725.1</td>\n",
       "      <td>Streptococcus devriesei</td>\n",
       "    </tr>\n",
       "    <tr>\n",
       "      <th>3</th>\n",
       "      <td>Streptococcus dysgalactiae</td>\n",
       "      <td>GCF_016128095.1</td>\n",
       "      <td>Streptococcus dysgalactiae</td>\n",
       "    </tr>\n",
       "    <tr>\n",
       "      <th>4</th>\n",
       "      <td>Streptococcus pyogenes</td>\n",
       "      <td>GCF_900475035.1</td>\n",
       "      <td>Streptococcus pyogenes</td>\n",
       "    </tr>\n",
       "    <tr>\n",
       "      <th>5</th>\n",
       "      <td>Streptococcus canis</td>\n",
       "      <td>GCF_010993845.2</td>\n",
       "      <td>Streptococcus canis</td>\n",
       "    </tr>\n",
       "    <tr>\n",
       "      <th>6</th>\n",
       "      <td>Streptococcus equinus</td>\n",
       "      <td>GCF_900102715.1</td>\n",
       "      <td>Streptococcus equinus</td>\n",
       "    </tr>\n",
       "    <tr>\n",
       "      <th>7</th>\n",
       "      <td>Streptococcus lutetiensis</td>\n",
       "      <td>GCF_900475675.1</td>\n",
       "      <td>Streptococcus lutetiensis</td>\n",
       "    </tr>\n",
       "    <tr>\n",
       "      <th>8</th>\n",
       "      <td>Streptococcus infantarius</td>\n",
       "      <td>GCF_016127275.1</td>\n",
       "      <td>Streptococcus infantarius</td>\n",
       "    </tr>\n",
       "    <tr>\n",
       "      <th>9</th>\n",
       "      <td>Streptococcus entericus DSM 14446</td>\n",
       "      <td>GCF_000380025.1</td>\n",
       "      <td>Streptococcus entericus</td>\n",
       "    </tr>\n",
       "    <tr>\n",
       "      <th>10</th>\n",
       "      <td>Streptococcus plurextorum DSM 22810</td>\n",
       "      <td>GCF_000423745.1</td>\n",
       "      <td>Streptococcus plurextorum</td>\n",
       "    </tr>\n",
       "    <tr>\n",
       "      <th>11</th>\n",
       "      <td>Streptococcus suis BM407</td>\n",
       "      <td>GCF_000026745.1</td>\n",
       "      <td>Streptococcus suis</td>\n",
       "    </tr>\n",
       "    <tr>\n",
       "      <th>12</th>\n",
       "      <td>Streptococcus constellatus</td>\n",
       "      <td>GCF_900459125.1</td>\n",
       "      <td>Streptococcus constellatus</td>\n",
       "    </tr>\n",
       "    <tr>\n",
       "      <th>13</th>\n",
       "      <td>Streptococcus intermedius</td>\n",
       "      <td>GCF_900475975.1</td>\n",
       "      <td>Streptococcus intermedius</td>\n",
       "    </tr>\n",
       "    <tr>\n",
       "      <th>14</th>\n",
       "      <td>Streptococcus anginosus</td>\n",
       "      <td>GCF_001412635.1</td>\n",
       "      <td>Streptococcus anginosus</td>\n",
       "    </tr>\n",
       "    <tr>\n",
       "      <th>15</th>\n",
       "      <td>Streptococcus pneumoniae</td>\n",
       "      <td>GCF_002076835.1</td>\n",
       "      <td>Streptococcus pneumoniae</td>\n",
       "    </tr>\n",
       "    <tr>\n",
       "      <th>16</th>\n",
       "      <td>Streptococcus pseudopneumoniae IS7493</td>\n",
       "      <td>GCF_000221985.1</td>\n",
       "      <td>Streptococcus pseudopneumoniae</td>\n",
       "    </tr>\n",
       "    <tr>\n",
       "      <th>17</th>\n",
       "      <td>Streptococcus mitis</td>\n",
       "      <td>GCF_000960005.1</td>\n",
       "      <td>Streptococcus mitis</td>\n",
       "    </tr>\n",
       "    <tr>\n",
       "      <th>18</th>\n",
       "      <td>Streptococcus vestibularis</td>\n",
       "      <td>GCF_001657915.1</td>\n",
       "      <td>Streptococcus vestibularis</td>\n",
       "    </tr>\n",
       "    <tr>\n",
       "      <th>19</th>\n",
       "      <td>Streptococcus salivarius</td>\n",
       "      <td>GCF_902858935.1</td>\n",
       "      <td>Streptococcus salivarius</td>\n",
       "    </tr>\n",
       "    <tr>\n",
       "      <th>20</th>\n",
       "      <td>Streptococcus thermophilus</td>\n",
       "      <td>GCF_903886475.1</td>\n",
       "      <td>Streptococcus thermophilus</td>\n",
       "    </tr>\n",
       "    <tr>\n",
       "      <th>21</th>\n",
       "      <td>Lactococcus lactis</td>\n",
       "      <td>GCF_020463755.1</td>\n",
       "      <td>Lactococcus lactis</td>\n",
       "    </tr>\n",
       "    <tr>\n",
       "      <th>22</th>\n",
       "      <td>Lactococcus cremoris subsp. cremoris KW2</td>\n",
       "      <td>GCF_000468955.1</td>\n",
       "      <td>Lactococcus cremoris</td>\n",
       "    </tr>\n",
       "  </tbody>\n",
       "</table>\n",
       "</div>"
      ],
      "text/plain": [
       "                                 raw_species       accessions  \\\n",
       "0                        Streptococcus ratti  GCF_008803015.1   \n",
       "1                 Streptococcus downei MFe28  GCF_900459175.1   \n",
       "2          Streptococcus devriesei DSM 19639  GCF_000423725.1   \n",
       "3                 Streptococcus dysgalactiae  GCF_016128095.1   \n",
       "4                     Streptococcus pyogenes  GCF_900475035.1   \n",
       "5                        Streptococcus canis  GCF_010993845.2   \n",
       "6                      Streptococcus equinus  GCF_900102715.1   \n",
       "7                  Streptococcus lutetiensis  GCF_900475675.1   \n",
       "8                  Streptococcus infantarius  GCF_016127275.1   \n",
       "9          Streptococcus entericus DSM 14446  GCF_000380025.1   \n",
       "10       Streptococcus plurextorum DSM 22810  GCF_000423745.1   \n",
       "11                  Streptococcus suis BM407  GCF_000026745.1   \n",
       "12                Streptococcus constellatus  GCF_900459125.1   \n",
       "13                 Streptococcus intermedius  GCF_900475975.1   \n",
       "14                   Streptococcus anginosus  GCF_001412635.1   \n",
       "15                  Streptococcus pneumoniae  GCF_002076835.1   \n",
       "16     Streptococcus pseudopneumoniae IS7493  GCF_000221985.1   \n",
       "17                       Streptococcus mitis  GCF_000960005.1   \n",
       "18                Streptococcus vestibularis  GCF_001657915.1   \n",
       "19                  Streptococcus salivarius  GCF_902858935.1   \n",
       "20                Streptococcus thermophilus  GCF_903886475.1   \n",
       "21                        Lactococcus lactis  GCF_020463755.1   \n",
       "22  Lactococcus cremoris subsp. cremoris KW2  GCF_000468955.1   \n",
       "\n",
       "                           species  \n",
       "0              Streptococcus ratti  \n",
       "1             Streptococcus downei  \n",
       "2          Streptococcus devriesei  \n",
       "3       Streptococcus dysgalactiae  \n",
       "4           Streptococcus pyogenes  \n",
       "5              Streptococcus canis  \n",
       "6            Streptococcus equinus  \n",
       "7        Streptococcus lutetiensis  \n",
       "8        Streptococcus infantarius  \n",
       "9          Streptococcus entericus  \n",
       "10       Streptococcus plurextorum  \n",
       "11              Streptococcus suis  \n",
       "12      Streptococcus constellatus  \n",
       "13       Streptococcus intermedius  \n",
       "14         Streptococcus anginosus  \n",
       "15        Streptococcus pneumoniae  \n",
       "16  Streptococcus pseudopneumoniae  \n",
       "17             Streptococcus mitis  \n",
       "18      Streptococcus vestibularis  \n",
       "19        Streptococcus salivarius  \n",
       "20      Streptococcus thermophilus  \n",
       "21              Lactococcus lactis  \n",
       "22            Lactococcus cremoris  "
      ]
     },
     "execution_count": 10,
     "metadata": {},
     "output_type": "execute_result"
    }
   ],
   "source": [
    "species = []\n",
    "with open(\"org_spec.txt\", \"r\") as f:\n",
    "    for line in f.readlines():\n",
    "        text = line.rstrip()\n",
    "        if text:\n",
    "            species.append(text)\n",
    "\n",
    "accessions = []\n",
    "with open(\"org_accs.txt\", \"r\") as f:\n",
    "    for line in f.readlines():\n",
    "        text = line.rstrip()\n",
    "        if text:\n",
    "            accessions.append(line.rstrip())\n",
    "\n",
    "data = pd.DataFrame.from_dict({'raw_species': species, 'accessions': accessions}, orient='columns')\n",
    "\n",
    "def extract_species(raw_species):\n",
    "    parts = raw_species.split()\n",
    "    if len(parts) >= 2:\n",
    "        return ' '.join(parts[:2])\n",
    "    else:\n",
    "        return raw_species\n",
    "\n",
    "data['species'] = data['raw_species'].apply(extract_species)\n",
    "\n",
    "data"
   ]
  },
  {
   "cell_type": "code",
   "execution_count": 11,
   "metadata": {},
   "outputs": [
    {
     "data": {
      "text/html": [
       "<div>\n",
       "<style scoped>\n",
       "    .dataframe tbody tr th:only-of-type {\n",
       "        vertical-align: middle;\n",
       "    }\n",
       "\n",
       "    .dataframe tbody tr th {\n",
       "        vertical-align: top;\n",
       "    }\n",
       "\n",
       "    .dataframe thead th {\n",
       "        text-align: right;\n",
       "    }\n",
       "</style>\n",
       "<table border=\"1\" class=\"dataframe\">\n",
       "  <thead>\n",
       "    <tr style=\"text-align: right;\">\n",
       "      <th></th>\n",
       "      <th>raw_species</th>\n",
       "      <th>accessions</th>\n",
       "      <th>species</th>\n",
       "      <th>aliases</th>\n",
       "    </tr>\n",
       "  </thead>\n",
       "  <tbody>\n",
       "    <tr>\n",
       "      <th>0</th>\n",
       "      <td>Streptococcus ratti</td>\n",
       "      <td>GCF_008803015.1</td>\n",
       "      <td>Streptococcus ratti</td>\n",
       "      <td>SRAT</td>\n",
       "    </tr>\n",
       "    <tr>\n",
       "      <th>1</th>\n",
       "      <td>Streptococcus downei MFe28</td>\n",
       "      <td>GCF_900459175.1</td>\n",
       "      <td>Streptococcus downei</td>\n",
       "      <td>SDOW</td>\n",
       "    </tr>\n",
       "    <tr>\n",
       "      <th>2</th>\n",
       "      <td>Streptococcus devriesei DSM 19639</td>\n",
       "      <td>GCF_000423725.1</td>\n",
       "      <td>Streptococcus devriesei</td>\n",
       "      <td>SDEV</td>\n",
       "    </tr>\n",
       "    <tr>\n",
       "      <th>3</th>\n",
       "      <td>Streptococcus dysgalactiae</td>\n",
       "      <td>GCF_016128095.1</td>\n",
       "      <td>Streptococcus dysgalactiae</td>\n",
       "      <td>SDYS</td>\n",
       "    </tr>\n",
       "    <tr>\n",
       "      <th>4</th>\n",
       "      <td>Streptococcus pyogenes</td>\n",
       "      <td>GCF_900475035.1</td>\n",
       "      <td>Streptococcus pyogenes</td>\n",
       "      <td>SPYO</td>\n",
       "    </tr>\n",
       "    <tr>\n",
       "      <th>5</th>\n",
       "      <td>Streptococcus canis</td>\n",
       "      <td>GCF_010993845.2</td>\n",
       "      <td>Streptococcus canis</td>\n",
       "      <td>SCAN</td>\n",
       "    </tr>\n",
       "    <tr>\n",
       "      <th>6</th>\n",
       "      <td>Streptococcus equinus</td>\n",
       "      <td>GCF_900102715.1</td>\n",
       "      <td>Streptococcus equinus</td>\n",
       "      <td>SEQU</td>\n",
       "    </tr>\n",
       "    <tr>\n",
       "      <th>7</th>\n",
       "      <td>Streptococcus lutetiensis</td>\n",
       "      <td>GCF_900475675.1</td>\n",
       "      <td>Streptococcus lutetiensis</td>\n",
       "      <td>SLUT</td>\n",
       "    </tr>\n",
       "    <tr>\n",
       "      <th>8</th>\n",
       "      <td>Streptococcus infantarius</td>\n",
       "      <td>GCF_016127275.1</td>\n",
       "      <td>Streptococcus infantarius</td>\n",
       "      <td>SINF</td>\n",
       "    </tr>\n",
       "    <tr>\n",
       "      <th>9</th>\n",
       "      <td>Streptococcus entericus DSM 14446</td>\n",
       "      <td>GCF_000380025.1</td>\n",
       "      <td>Streptococcus entericus</td>\n",
       "      <td>SENT</td>\n",
       "    </tr>\n",
       "    <tr>\n",
       "      <th>10</th>\n",
       "      <td>Streptococcus plurextorum DSM 22810</td>\n",
       "      <td>GCF_000423745.1</td>\n",
       "      <td>Streptococcus plurextorum</td>\n",
       "      <td>SPLU</td>\n",
       "    </tr>\n",
       "    <tr>\n",
       "      <th>11</th>\n",
       "      <td>Streptococcus suis BM407</td>\n",
       "      <td>GCF_000026745.1</td>\n",
       "      <td>Streptococcus suis</td>\n",
       "      <td>SSUI</td>\n",
       "    </tr>\n",
       "    <tr>\n",
       "      <th>12</th>\n",
       "      <td>Streptococcus constellatus</td>\n",
       "      <td>GCF_900459125.1</td>\n",
       "      <td>Streptococcus constellatus</td>\n",
       "      <td>SCON</td>\n",
       "    </tr>\n",
       "    <tr>\n",
       "      <th>13</th>\n",
       "      <td>Streptococcus intermedius</td>\n",
       "      <td>GCF_900475975.1</td>\n",
       "      <td>Streptococcus intermedius</td>\n",
       "      <td>SINT</td>\n",
       "    </tr>\n",
       "    <tr>\n",
       "      <th>14</th>\n",
       "      <td>Streptococcus anginosus</td>\n",
       "      <td>GCF_001412635.1</td>\n",
       "      <td>Streptococcus anginosus</td>\n",
       "      <td>SANG</td>\n",
       "    </tr>\n",
       "    <tr>\n",
       "      <th>15</th>\n",
       "      <td>Streptococcus pneumoniae</td>\n",
       "      <td>GCF_002076835.1</td>\n",
       "      <td>Streptococcus pneumoniae</td>\n",
       "      <td>SPNE</td>\n",
       "    </tr>\n",
       "    <tr>\n",
       "      <th>16</th>\n",
       "      <td>Streptococcus pseudopneumoniae IS7493</td>\n",
       "      <td>GCF_000221985.1</td>\n",
       "      <td>Streptococcus pseudopneumoniae</td>\n",
       "      <td>SPSE</td>\n",
       "    </tr>\n",
       "    <tr>\n",
       "      <th>17</th>\n",
       "      <td>Streptococcus mitis</td>\n",
       "      <td>GCF_000960005.1</td>\n",
       "      <td>Streptococcus mitis</td>\n",
       "      <td>SMIT</td>\n",
       "    </tr>\n",
       "    <tr>\n",
       "      <th>18</th>\n",
       "      <td>Streptococcus vestibularis</td>\n",
       "      <td>GCF_001657915.1</td>\n",
       "      <td>Streptococcus vestibularis</td>\n",
       "      <td>SVES</td>\n",
       "    </tr>\n",
       "    <tr>\n",
       "      <th>19</th>\n",
       "      <td>Streptococcus salivarius</td>\n",
       "      <td>GCF_902858935.1</td>\n",
       "      <td>Streptococcus salivarius</td>\n",
       "      <td>SSAL</td>\n",
       "    </tr>\n",
       "    <tr>\n",
       "      <th>20</th>\n",
       "      <td>Streptococcus thermophilus</td>\n",
       "      <td>GCF_903886475.1</td>\n",
       "      <td>Streptococcus thermophilus</td>\n",
       "      <td>STHE</td>\n",
       "    </tr>\n",
       "    <tr>\n",
       "      <th>21</th>\n",
       "      <td>Lactococcus lactis</td>\n",
       "      <td>GCF_020463755.1</td>\n",
       "      <td>Lactococcus lactis</td>\n",
       "      <td>LLAC</td>\n",
       "    </tr>\n",
       "    <tr>\n",
       "      <th>22</th>\n",
       "      <td>Lactococcus cremoris subsp. cremoris KW2</td>\n",
       "      <td>GCF_000468955.1</td>\n",
       "      <td>Lactococcus cremoris</td>\n",
       "      <td>LCRE</td>\n",
       "    </tr>\n",
       "  </tbody>\n",
       "</table>\n",
       "</div>"
      ],
      "text/plain": [
       "                                 raw_species       accessions  \\\n",
       "0                        Streptococcus ratti  GCF_008803015.1   \n",
       "1                 Streptococcus downei MFe28  GCF_900459175.1   \n",
       "2          Streptococcus devriesei DSM 19639  GCF_000423725.1   \n",
       "3                 Streptococcus dysgalactiae  GCF_016128095.1   \n",
       "4                     Streptococcus pyogenes  GCF_900475035.1   \n",
       "5                        Streptococcus canis  GCF_010993845.2   \n",
       "6                      Streptococcus equinus  GCF_900102715.1   \n",
       "7                  Streptococcus lutetiensis  GCF_900475675.1   \n",
       "8                  Streptococcus infantarius  GCF_016127275.1   \n",
       "9          Streptococcus entericus DSM 14446  GCF_000380025.1   \n",
       "10       Streptococcus plurextorum DSM 22810  GCF_000423745.1   \n",
       "11                  Streptococcus suis BM407  GCF_000026745.1   \n",
       "12                Streptococcus constellatus  GCF_900459125.1   \n",
       "13                 Streptococcus intermedius  GCF_900475975.1   \n",
       "14                   Streptococcus anginosus  GCF_001412635.1   \n",
       "15                  Streptococcus pneumoniae  GCF_002076835.1   \n",
       "16     Streptococcus pseudopneumoniae IS7493  GCF_000221985.1   \n",
       "17                       Streptococcus mitis  GCF_000960005.1   \n",
       "18                Streptococcus vestibularis  GCF_001657915.1   \n",
       "19                  Streptococcus salivarius  GCF_902858935.1   \n",
       "20                Streptococcus thermophilus  GCF_903886475.1   \n",
       "21                        Lactococcus lactis  GCF_020463755.1   \n",
       "22  Lactococcus cremoris subsp. cremoris KW2  GCF_000468955.1   \n",
       "\n",
       "                           species aliases  \n",
       "0              Streptococcus ratti    SRAT  \n",
       "1             Streptococcus downei    SDOW  \n",
       "2          Streptococcus devriesei    SDEV  \n",
       "3       Streptococcus dysgalactiae    SDYS  \n",
       "4           Streptococcus pyogenes    SPYO  \n",
       "5              Streptococcus canis    SCAN  \n",
       "6            Streptococcus equinus    SEQU  \n",
       "7        Streptococcus lutetiensis    SLUT  \n",
       "8        Streptococcus infantarius    SINF  \n",
       "9          Streptococcus entericus    SENT  \n",
       "10       Streptococcus plurextorum    SPLU  \n",
       "11              Streptococcus suis    SSUI  \n",
       "12      Streptococcus constellatus    SCON  \n",
       "13       Streptococcus intermedius    SINT  \n",
       "14         Streptococcus anginosus    SANG  \n",
       "15        Streptococcus pneumoniae    SPNE  \n",
       "16  Streptococcus pseudopneumoniae    SPSE  \n",
       "17             Streptococcus mitis    SMIT  \n",
       "18      Streptococcus vestibularis    SVES  \n",
       "19        Streptococcus salivarius    SSAL  \n",
       "20      Streptococcus thermophilus    STHE  \n",
       "21              Lactococcus lactis    LLAC  \n",
       "22            Lactococcus cremoris    LCRE  "
      ]
     },
     "execution_count": 11,
     "metadata": {},
     "output_type": "execute_result"
    }
   ],
   "source": [
    "# Set Aliases\n",
    "\n",
    "def extract_aliases(species):\n",
    "    parts = species.split()\n",
    "    assert len(parts) == 2\n",
    "\n",
    "    return f\"{parts[0][0].upper()}{parts[1][:3].upper()}\"\n",
    "\n",
    "data['aliases'] = data['species'].apply(extract_aliases)\n",
    "data"
   ]
  },
  {
   "cell_type": "code",
   "execution_count": 12,
   "metadata": {},
   "outputs": [],
   "source": [
    "# for ind, row in data.iterrows():\n",
    "#     print(f\"- {row['aliases']}: *{row['species']}*\")"
   ]
  },
  {
   "cell_type": "code",
   "execution_count": 13,
   "metadata": {},
   "outputs": [],
   "source": [
    "# Check uniqueness of the aliases\n",
    "# First letter of genus + 3 letters of species\n",
    "assert data.shape[0] == data[\"aliases\"].nunique()"
   ]
  },
  {
   "cell_type": "code",
   "execution_count": 14,
   "metadata": {},
   "outputs": [
    {
     "data": {
      "text/plain": [
       "(['SRAT', 'SDOW', 'SDEV'],\n",
       " ['GCF_008803015.1', 'GCF_900459175.1', 'GCF_000423725.1'])"
      ]
     },
     "execution_count": 14,
     "metadata": {},
     "output_type": "execute_result"
    }
   ],
   "source": [
    "aliases = list(data[\"aliases\"].unique())\n",
    "accessions = list(data[\"accessions\"].unique())\n",
    "aliases[:3], accessions[:3]"
   ]
  },
  {
   "cell_type": "markdown",
   "metadata": {},
   "source": [
    "## Part II. Clustering\n",
    "\n",
    "For the given proteomes, ~~calculate a BLAST file with pairwise sequence comparisons using the method of all against all, and~~ cluster using MCL, MMSeqs, or an alternative method.\n",
    "\n",
    ">[MMseqs2](https://mmseqs.com/) operates by efficiently clustering biological sequences, such as proteins or nucleotides, based on a specified minimum sequence identity threshold (min_seq_id). The process involves constructing a graph where sequences are represented as nodes, and edges connect sequences that share a similarity above the defined threshold. Subsequently, connected components in the graph are identified, each corresponding to a cluster of sequences with similarity greater than or equal to the specified threshold. MMseqs2's strength lies in its ability to rapidly process and cluster large sequence datasets, making it a versatile tool for tasks like sequence clustering and database searching in bioinformatics analyses. The min_seq_id parameter dictates the minimum required sequence identity for sequences to be grouped within the same cluster, allowing users to customize the clustering stringency based on their specific analytical needs.\n"
   ]
  },
  {
   "cell_type": "markdown",
   "metadata": {},
   "source": [
    "**mmseqs2**\n",
    "\n",
    "`genenv` environment in `WSL`\n",
    "\n",
    "https://anaconda.org/bioconda/mmseqs2\n"
   ]
  },
  {
   "cell_type": "code",
   "execution_count": 10,
   "metadata": {},
   "outputs": [],
   "source": [
    "from Bio import SeqIO\n",
    "import matplotlib.pyplot as plt\n",
    "import os"
   ]
  },
  {
   "cell_type": "code",
   "execution_count": 8,
   "metadata": {},
   "outputs": [
    {
     "name": "stdout",
     "output_type": "stream",
     "text": [
      "Sequences saved to sequences.fasta\n"
     ]
    }
   ],
   "source": [
    "# Note to self: don't need to run this multiple times\n",
    "\n",
    "# Rename sequences to alias_num\n",
    "# Merge all genomes to one fasta\n",
    "\n",
    "base_path = \"ncbi_dataset\"\n",
    "prot_path = f\"{base_path}/data\"\n",
    "seq_path = f\"{base_path}/sequences\"\n",
    "prot_filename = \"protein.faa\"\n",
    "\n",
    "output_sequences = []\n",
    "\n",
    "for acc in data['accessions']:\n",
    "    fasta_file_path = os.path.join(prot_path, acc, prot_filename)\n",
    "    with open(fasta_file_path) as handle:\n",
    "        num = 1\n",
    "        for record in SeqIO.parse(handle, \"fasta\"):\n",
    "            alias = data.loc[data['accessions'] == acc, 'aliases'].values[0]\n",
    "            new_identifier = f\"{alias}_{num}\"\n",
    "            record.id = new_identifier\n",
    "            record.description = \"\"\n",
    "            output_sequences.append(record)\n",
    "            num += 1\n",
    "\n",
    "output_file_path = 'sequences.fasta'\n",
    "\n",
    "SeqIO.write(output_sequences, output_file_path, 'fasta')\n",
    "print(f\"Sequences saved to {output_file_path}\")\n",
    "\n",
    "del output_sequences\n"
   ]
  },
  {
   "cell_type": "code",
   "execution_count": 29,
   "metadata": {
    "vscode": {
     "languageId": "shellscript"
    }
   },
   "outputs": [],
   "source": [
    "\n",
    "# # Execute clustering script\n",
    "# ./clust_mmseqs.sh\n"
   ]
  },
  {
   "cell_type": "markdown",
   "metadata": {},
   "source": [
    "## Part III. Gene Families (1-1 Case)\n",
    "\n",
    "Select/generate clusters (gene families) with unambiguous names of genomes and replace gene names with genome names. Skip some clusters, e.g., those with low membership or containing only one genome.\n"
   ]
  },
  {
   "cell_type": "code",
   "execution_count": 7,
   "metadata": {},
   "outputs": [],
   "source": [
    "import numpy as np"
   ]
  },
  {
   "cell_type": "code",
   "execution_count": 8,
   "metadata": {},
   "outputs": [],
   "source": [
    "# Read and analyze mmseqs results\n",
    "df_mmseqs = pd.read_csv(\"clstrs_mmseqs_cluster.tsv\", sep=\"\\t\", names=[\"Cluster\", \"Member\"])"
   ]
  },
  {
   "cell_type": "code",
   "execution_count": 11,
   "metadata": {},
   "outputs": [
    {
     "data": {
      "image/png": "[encoded data removed]",
      "text/plain": [
       "<Figure size 640x480 with 1 Axes>"
      ]
     },
     "metadata": {},
     "output_type": "display_data"
    }
   ],
   "source": [
    "max_clip = 30\n",
    "# df_tmp = np.clip(df_mmseqs[\"Cluster\"].value_counts(), 0, max_clip)\n",
    "df_tmp = np.clip(df_mmseqs[\"Cluster\"].value_counts(), 0, max_clip)\n",
    "\n",
    "plt.hist(df_tmp, bins=max(df_tmp))\n",
    "\n",
    "labels = [int(label) for label in plt.xticks()[0]]\n",
    "labels[-2] = f\"{max_clip}+\"\n",
    "plt.xticks(plt.xticks()[0], labels)\n",
    "plt.xlim(1, max(df_tmp))\n",
    "\n",
    "plt.title(f\"mmseqs: all {len(df_tmp)} clusters\")\n",
    "plt.xlabel(\"Cluster size\")\n",
    "plt.ylabel(\"Frequency\")\n",
    "\n",
    "plt.show()"
   ]
  },
  {
   "cell_type": "code",
   "execution_count": 12,
   "metadata": {},
   "outputs": [],
   "source": [
    "# Select clusters having more than one element (filter out singletons)\n",
    "# Redundant code (all is done in the following cell)\n",
    "\n",
    "cluster_counts = df_mmseqs['Cluster'].value_counts()\n",
    "# Minimum size of clusters\n",
    "min_size = 1\n",
    "non_singleton_clusters = cluster_counts[cluster_counts > min_size].index\n",
    "df_sel = df_mmseqs[df_mmseqs['Cluster'].isin(non_singleton_clusters)]"
   ]
  },
  {
   "cell_type": "code",
   "execution_count": 13,
   "metadata": {},
   "outputs": [],
   "source": [
    "# Filter out singletons and 2-element clusters with paralogs\n",
    "\n",
    "# Count the number of occurrences for each cluster\n",
    "cluster_counts = df_mmseqs['Cluster'].value_counts()\n",
    "\n",
    "# Identify clusters with exactly two elements\n",
    "two_element_clusters = cluster_counts[cluster_counts == 2].index\n",
    "\n",
    "# Filter the DataFrame to keep only rows with clusters having exactly two elements\n",
    "df_two_elements = df_mmseqs[df_mmseqs['Cluster'].isin(two_element_clusters)]\n",
    "\n",
    "# Function to check if two members are from different genomes\n",
    "def members_from_different_genomes(group):\n",
    "    aliases = group['Member'].str.split('_').str[0]\n",
    "    return aliases.nunique() == 2\n",
    "\n",
    "# Filter out clusters where both members are from the same genome\n",
    "df_two_elements_filtered = df_two_elements.groupby('Cluster').filter(members_from_different_genomes)\n",
    "\n",
    "# Identify clusters with more than two elements\n",
    "more_than_two_element_clusters = cluster_counts[cluster_counts > 2].index\n",
    "\n",
    "# Filter the DataFrame to keep only rows with clusters having more than two elements\n",
    "df_more_than_two_elements = df_mmseqs[df_mmseqs['Cluster'].isin(more_than_two_element_clusters)]\n",
    "\n",
    "# Concatenate the two DataFrames to get the final result\n",
    "df_sel = pd.concat([df_two_elements_filtered, df_more_than_two_elements])"
   ]
  },
  {
   "cell_type": "code",
   "execution_count": 14,
   "metadata": {},
   "outputs": [
    {
     "data": {
      "image/png": "[encoded data removed]",
      "text/plain": [
       "<Figure size 640x480 with 1 Axes>"
      ]
     },
     "metadata": {},
     "output_type": "display_data"
    }
   ],
   "source": [
    "max_clip = 30\n",
    "# df_tmp = np.clip(df_mmseqs[\"Cluster\"].value_counts(), 0, max_clip)\n",
    "df_tmp = np.clip(df_sel[\"Cluster\"].value_counts(), 0, max_clip)\n",
    "\n",
    "plt.hist(df_tmp, bins=max(df_tmp))\n",
    "\n",
    "labels = [int(label) for label in plt.xticks()[0]]\n",
    "labels[-2] = f\"{max_clip}+\"\n",
    "plt.xticks(plt.xticks()[0], labels)\n",
    "plt.xlim(1, max(df_tmp))\n",
    "\n",
    "plt.title(f\"mmseqs: {len(df_tmp)} clusters with no singletons and unique-genome duplets\")\n",
    "plt.xlabel(\"Cluster size\")\n",
    "plt.ylabel(\"Frequency\")\n",
    "\n",
    "plt.show()"
   ]
  },
  {
   "cell_type": "markdown",
   "metadata": {},
   "source": [
    "### Strategy nr 1 - Exclusion of Singletons, Duplets, and Non-Orthologous Clusters"
   ]
  },
  {
   "cell_type": "code",
   "execution_count": 19,
   "metadata": {},
   "outputs": [],
   "source": [
    "\n",
    "# Count the number of occurrences for each cluster\n",
    "cluster_counts = df_mmseqs['Cluster'].value_counts()\n",
    "\n",
    "# Function to check if members in a cluster are from different genomes\n",
    "def members_from_different_genomes(group):\n",
    "    aliases = group['Member'].str.split('_').str[0]\n",
    "    return aliases.nunique() == len(group)\n",
    "\n",
    "# Create a DataFrame to store the results - statistics for clusters\n",
    "results = pd.DataFrame(columns=['Cluster Size', 'Percentage', 'Clusters with Unique Genomes'])\n",
    "\n",
    "# Minimal size of cluster to be considered\n",
    "min_size = 3\n",
    "\n",
    "# Create a DataFrame to store selected clusters and members\n",
    "df_sel = pd.DataFrame(columns=['Cluster', 'Member'])\n",
    "\n",
    "# Iterate through unique cluster sizes\n",
    "for cluster_size in range(min_size, len(data) + 2):\n",
    "    # It only makes sense to check up to nr of genomes + 2 (to verify)\n",
    "    # Check if clusters of the current size exist\n",
    "\n",
    "    # Filter clusters based on the current size\n",
    "    clusters_of_size_n = cluster_counts[cluster_counts == cluster_size].index\n",
    "\n",
    "    # Filter the DataFrame to keep only rows with clusters of the current size\n",
    "    df_of_size_n = df_mmseqs[df_mmseqs['Cluster'].isin(clusters_of_size_n)]\n",
    "\n",
    "    # Check if the DataFrame is non-empty before further processing\n",
    "    if not df_of_size_n.empty:\n",
    "        # Apply the unique genome filtering function to each group in the DataFrame\n",
    "        filtered_clusters = df_of_size_n.groupby('Cluster').filter(members_from_different_genomes)\n",
    "\n",
    "        # Count the number of clusters that meet the criteria\n",
    "        num_clusters_with_unique_genomes = len(filtered_clusters['Cluster'].unique())\n",
    "\n",
    "        # Calculate the percentage for each cluster size\n",
    "        percentage = (num_clusters_with_unique_genomes / len(clusters_of_size_n)) * 100\n",
    "\n",
    "        # Append the results to the results DataFrame\n",
    "        results = pd.concat([results, pd.DataFrame({'Cluster Size': [cluster_size], 'Percentage': [percentage], 'Clusters with Unique Genomes': [num_clusters_with_unique_genomes]})], ignore_index=True)\n",
    "\n",
    "        # Append selected clusters and members to df_sel\n",
    "        df_sel = pd.concat([df_sel, filtered_clusters[['Cluster', 'Member']]], ignore_index=True)\n",
    "        \n",
    "# print(results)"
   ]
  },
  {
   "cell_type": "code",
   "execution_count": 20,
   "metadata": {},
   "outputs": [
    {
     "data": {
      "image/png": "[encoded data removed]",
      "text/plain": [
       "<Figure size 640x480 with 1 Axes>"
      ]
     },
     "metadata": {},
     "output_type": "display_data"
    }
   ],
   "source": [
    "# Calculate the percentage for each cluster size\n",
    "\n",
    "# Plotting\n",
    "plt.bar(results['Cluster Size'], results['Percentage'], color='blue', alpha=0.7)\n",
    "plt.xlim(0, len(data) + 2)\n",
    "plt.xlabel('Cluster Size')\n",
    "plt.ylabel('Percentage of Clusters with Unique Genomes')\n",
    "plt.title(f'Percentage of Clusters with Unique Genomes by Cluster Size with Min size={min_size}, Mean percentage={results[\"Percentage\"].mean():.2f}%')\n",
    "plt.show()"
   ]
  },
  {
   "cell_type": "code",
   "execution_count": 21,
   "metadata": {},
   "outputs": [
    {
     "data": {
      "image/png": "[encoded data removed]",
      "text/plain": [
       "<Figure size 640x480 with 1 Axes>"
      ]
     },
     "metadata": {},
     "output_type": "display_data"
    }
   ],
   "source": [
    "# Calculate the percentage for each cluster size\n",
    "\n",
    "# Plotting\n",
    "plt.bar(results['Cluster Size'], results['Clusters with Unique Genomes'], color='red', alpha=0.7)\n",
    "plt.xlim(0, len(data) + 2)\n",
    "plt.xlabel('Cluster Size')\n",
    "plt.ylabel('Number of Clusters with Unique Genomes')\n",
    "plt.title(f'Number of Clusters with Unique Genomes by Cluster Size with Min size={min_size}, Num of Clusters={results[\"Clusters with Unique Genomes\"].sum()}')\n",
    "plt.show()"
   ]
  },
  {
   "cell_type": "markdown",
   "metadata": {},
   "source": [
    "### Strategy nr 2 - Elimination of Singletons and Selection of Paralogs Based on Similarity to a Representative"
   ]
  },
  {
   "cell_type": "code",
   "execution_count": 207,
   "metadata": {},
   "outputs": [],
   "source": [
    "# not needed for now\n",
    "# do paralog removal for non-singleton-unique-genome-duplet clusters\n",
    "# by pairwise comparison (biopython) between rep and members - choose most similar with unique genome alias\n"
   ]
  },
  {
   "cell_type": "markdown",
   "metadata": {},
   "source": [
    "### Saving Clusters to Fasta Files"
   ]
  },
  {
   "cell_type": "code",
   "execution_count": 196,
   "metadata": {},
   "outputs": [],
   "source": [
    "from Bio.Seq import Seq\n",
    "from Bio.SeqRecord import SeqRecord"
   ]
  },
  {
   "cell_type": "code",
   "execution_count": 22,
   "metadata": {},
   "outputs": [],
   "source": [
    "# Whichever strategy is used\n",
    "# Cluster information is in a DataFrame df_sel\n",
    "# With columns \"Cluster\", \"Member\"\n",
    "\n",
    "# Create a DataFrame to store sequences from \"sequences.fasta\"\n",
    "df_seq = pd.DataFrame(columns=['id', 'Seq'])\n",
    "\n",
    "sequences_file_path = 'sequences.fasta'\n",
    "for record in SeqIO.parse(sequences_file_path, 'fasta'):\n",
    "    sequence_id = record.id\n",
    "    sequence = str(record.seq)\n",
    "    df_seq = pd.concat([df_seq, pd.DataFrame({'id': [sequence_id], 'Seq': [sequence]})], ignore_index=True)\n"
   ]
  },
  {
   "cell_type": "code",
   "execution_count": 23,
   "metadata": {},
   "outputs": [
    {
     "data": {
      "text/html": [
       "<div>\n",
       "<style scoped>\n",
       "    .dataframe tbody tr th:only-of-type {\n",
       "        vertical-align: middle;\n",
       "    }\n",
       "\n",
       "    .dataframe tbody tr th {\n",
       "        vertical-align: top;\n",
       "    }\n",
       "\n",
       "    .dataframe thead th {\n",
       "        text-align: right;\n",
       "    }\n",
       "</style>\n",
       "<table border=\"1\" class=\"dataframe\">\n",
       "  <thead>\n",
       "    <tr style=\"text-align: right;\">\n",
       "      <th></th>\n",
       "      <th>id</th>\n",
       "      <th>Seq</th>\n",
       "    </tr>\n",
       "  </thead>\n",
       "  <tbody>\n",
       "    <tr>\n",
       "      <th>0</th>\n",
       "      <td>SRAT_1</td>\n",
       "      <td>MSKTVVRKNESLDDALRRFKRSVTKAGTLQESRKREFYEKPSVKRK...</td>\n",
       "    </tr>\n",
       "    <tr>\n",
       "      <th>1</th>\n",
       "      <td>SRAT_2</td>\n",
       "      <td>MAQQRRGGFKRRKKVDYIAANKIEYVDYKDTELLSRFVSERGKILP...</td>\n",
       "    </tr>\n",
       "    <tr>\n",
       "      <th>2</th>\n",
       "      <td>SRAT_3</td>\n",
       "      <td>MKVRPSVKPICEYCKVIRRNGRVMVICPTNPKHKQRQG</td>\n",
       "    </tr>\n",
       "  </tbody>\n",
       "</table>\n",
       "</div>"
      ],
      "text/plain": [
       "       id                                                Seq\n",
       "0  SRAT_1  MSKTVVRKNESLDDALRRFKRSVTKAGTLQESRKREFYEKPSVKRK...\n",
       "1  SRAT_2  MAQQRRGGFKRRKKVDYIAANKIEYVDYKDTELLSRFVSERGKILP...\n",
       "2  SRAT_3             MKVRPSVKPICEYCKVIRRNGRVMVICPTNPKHKQRQG"
      ]
     },
     "execution_count": 23,
     "metadata": {},
     "output_type": "execute_result"
    }
   ],
   "source": [
    "df_seq.head(3)"
   ]
  },
  {
   "cell_type": "code",
   "execution_count": 24,
   "metadata": {},
   "outputs": [],
   "source": [
    "# Merge df_sel and df_seq on columns 'id' and 'seq' to create df_cls\n",
    "df_cls = pd.merge(df_sel, df_seq, left_on='Member', right_on='id', how='left')\n",
    "df_cls.drop(\"id\", inplace=True, axis=1)"
   ]
  },
  {
   "cell_type": "code",
   "execution_count": 25,
   "metadata": {},
   "outputs": [
    {
     "data": {
      "text/html": [
       "<div>\n",
       "<style scoped>\n",
       "    .dataframe tbody tr th:only-of-type {\n",
       "        vertical-align: middle;\n",
       "    }\n",
       "\n",
       "    .dataframe tbody tr th {\n",
       "        vertical-align: top;\n",
       "    }\n",
       "\n",
       "    .dataframe thead th {\n",
       "        text-align: right;\n",
       "    }\n",
       "</style>\n",
       "<table border=\"1\" class=\"dataframe\">\n",
       "  <thead>\n",
       "    <tr style=\"text-align: right;\">\n",
       "      <th></th>\n",
       "      <th>Cluster</th>\n",
       "      <th>Member</th>\n",
       "      <th>Seq</th>\n",
       "    </tr>\n",
       "  </thead>\n",
       "  <tbody>\n",
       "    <tr>\n",
       "      <th>0</th>\n",
       "      <td>SINF_1523</td>\n",
       "      <td>SINF_1523</td>\n",
       "      <td>MCTAITYTTKDSYFGRNLDLDFSYNETVTICPRTYPFSFKHKGENK...</td>\n",
       "    </tr>\n",
       "    <tr>\n",
       "      <th>1</th>\n",
       "      <td>SINF_1523</td>\n",
       "      <td>SEQU_259</td>\n",
       "      <td>MCTAITYTTKDNYFGRNLDLDFSYNETVTICPRNYPFSFRHQGENN...</td>\n",
       "    </tr>\n",
       "    <tr>\n",
       "      <th>2</th>\n",
       "      <td>SINF_1523</td>\n",
       "      <td>SLUT_896</td>\n",
       "      <td>MCTAITYTTKDNYFGRNLDLDFSYNETVTICPRNYPFSFRHQGENN...</td>\n",
       "    </tr>\n",
       "  </tbody>\n",
       "</table>\n",
       "</div>"
      ],
      "text/plain": [
       "     Cluster     Member                                                Seq\n",
       "0  SINF_1523  SINF_1523  MCTAITYTTKDSYFGRNLDLDFSYNETVTICPRTYPFSFKHKGENK...\n",
       "1  SINF_1523   SEQU_259  MCTAITYTTKDNYFGRNLDLDFSYNETVTICPRNYPFSFRHQGENN...\n",
       "2  SINF_1523   SLUT_896  MCTAITYTTKDNYFGRNLDLDFSYNETVTICPRNYPFSFRHQGENN..."
      ]
     },
     "execution_count": 25,
     "metadata": {},
     "output_type": "execute_result"
    }
   ],
   "source": [
    "df_cls.head(3)"
   ]
  },
  {
   "cell_type": "code",
   "execution_count": 26,
   "metadata": {},
   "outputs": [
    {
     "data": {
      "image/png": "[encoded data removed]",
      "text/plain": [
       "<Figure size 640x480 with 1 Axes>"
      ]
     },
     "metadata": {},
     "output_type": "display_data"
    }
   ],
   "source": [
    "# Visualize for verification\n",
    "\n",
    "max_clip = 30\n",
    "# df_tmp = np.clip(df_mmseqs[\"Cluster\"].value_counts(), 0, max_clip)\n",
    "df_tmp = np.clip(df_cls[\"Cluster\"].value_counts(), 0, max_clip)\n",
    "\n",
    "# min_size from earlier\n",
    "\n",
    "# plt.hist(df_tmp, bins=(max(df_tmp)))\n",
    "plt.hist(df_tmp, bins=(len(data) - min_size))\n",
    "\n",
    "# labels = [int(label) for label in plt.xticks()[0]]\n",
    "# labels[-2] = f\"{max_clip}+\"\n",
    "# plt.xticks(plt.xticks()[0], labels)\n",
    "# plt.xlim(1, max(df_tmp))\n",
    "\n",
    "plt.xlim(1, len(data) + 2)\n",
    "\n",
    "plt.title(f\"mmseqs: selected {len(df_tmp)} clusters\")\n",
    "plt.xlabel(\"Cluster size\")\n",
    "plt.ylabel(\"Frequency\")\n",
    "\n",
    "plt.show()"
   ]
  },
  {
   "cell_type": "code",
   "execution_count": 202,
   "metadata": {},
   "outputs": [
    {
     "name": "stdout",
     "output_type": "stream",
     "text": [
      "2161 cluster sequences saved to sequences\n"
     ]
    }
   ],
   "source": [
    "\n",
    "seq_folder = \"sequences\"\n",
    "os.makedirs(seq_folder, exist_ok=True)\n",
    "\n",
    "i = 0\n",
    "# Iterate through unique clusters in df_cls\n",
    "for cluster_id in df_cls['Cluster'].unique():\n",
    "    # Filter df_cls for the current cluster\n",
    "    cluster_df = df_cls[df_cls['Cluster'] == cluster_id]\n",
    "\n",
    "    # Create a list of SeqRecords for the current cluster\n",
    "    cluster_records = []\n",
    "    for _, row in cluster_df.iterrows():\n",
    "        record_id = row['Member']\n",
    "        sequence = Seq(row['Seq'])\n",
    "        cluster_records.append(SeqRecord(seq=sequence, id=record_id, description=''))\n",
    "\n",
    "    # Write the SeqRecords to a fasta file named after the cluster\n",
    "    output_file_path = os.path.join(seq_folder, f\"{cluster_id}.fasta\")\n",
    "    SeqIO.write(cluster_records, output_file_path, 'fasta')\n",
    "\n",
    "    i += 1\n",
    "\n",
    "print(f\"{i} cluster sequences saved to {seq_folder}\")"
   ]
  },
  {
   "cell_type": "code",
   "execution_count": 27,
   "metadata": {},
   "outputs": [
    {
     "data": {
      "text/plain": [
       "['SINF_1523', 'SINF_1748', 'SINF_1783']"
      ]
     },
     "execution_count": 27,
     "metadata": {},
     "output_type": "execute_result"
    }
   ],
   "source": [
    "cluster_names = list(df_cls[\"Cluster\"].unique())\n",
    "cluster_names[:3]"
   ]
  },
  {
   "cell_type": "markdown",
   "metadata": {},
   "source": [
    "## Part IV. Multiple Sequence Alignments\n",
    "Calculate multiple alignments for each family."
   ]
  },
  {
   "cell_type": "markdown",
   "metadata": {},
   "source": [
    "**Mafft**\n",
    "\n",
    "https://mafft.cbrc.jp/alignment/software/windows_without_cygwin.html (Used here)\n",
    "\n",
    "https://mafft.cbrc.jp/alignment/software/ubuntu_on_windows.html"
   ]
  },
  {
   "cell_type": "code",
   "execution_count": 138,
   "metadata": {},
   "outputs": [
    {
     "name": "stdout",
     "output_type": "stream",
     "text": [
      "Alignment was successful\n"
     ]
    }
   ],
   "source": [
    "# Alignment for tree construction with NJ method\n",
    "from Bio.Align.Applications import MafftCommandline\n",
    "\n",
    "mafft_exe = os.path.join(\"mafft-7.520-win64-signed\", \"mafft-win\", \"mafft.bat\")\n",
    "aln_folder = \"alns\"\n",
    "os.makedirs(aln_folder, exist_ok=True)\n",
    "\n",
    "seq_folder = \"sequences\" # dir with clustered seqs\n",
    "\n",
    "for cluster in cluster_names:\n",
    "    mafft_in = os.path.join(seq_folder, f\"{cluster}.fasta\")\n",
    "    mafft_out = os.path.join(aln_folder, f\"aln_{cluster}.fasta\")\n",
    "    \n",
    "    # Run Mafft for alignment\n",
    "    mafft_cline = MafftCommandline(mafft_exe, input=mafft_in)\n",
    "    stdout, stderr = mafft_cline(stdout=True)\n",
    "\n",
    "    # Write alignment to file\n",
    "    with open(mafft_out, \"w\") as handle:\n",
    "        handle.write(stdout)\n",
    "\n",
    "print(\"Alignment was successful\")"
   ]
  },
  {
   "cell_type": "markdown",
   "metadata": {},
   "source": [
    "## Part V. Family Trees\n",
    "\n",
    "### Neighbor-Joining\n",
    "\n",
    "Calculate trees from alignments using the **NJ** method (or another, e.g., ML, MP).\n",
    "\n",
    "The use of trees from the aligning program is possible but not recommended (a decrease in the base score by 13 points).\n",
    "\n",
    ">The BLOSUM62 matrix, a component of the BLOSUM series, serves as a scoring system for amino acid substitutions in bioinformatics applications. Derived from observed substitutions in protein sequences with up to 62% identity, BLOSUM62 is particularly well-suited for aligning moderately divergent protein sequences. Its use extends to the Neighbor-Joining algorithm for phylogenetic tree construction, where it calculates evolutionary distances between sequences. The algorithm progressively joins pairs with the shortest distances, and BLOSUM62's design ensures its effectiveness in balancing considerations for both closely and more distantly related sequences. This matrix plays a crucial role in understanding evolutionary relationships and constructing phylogenetic trees across diverse protein families.\n"
   ]
  },
  {
   "cell_type": "code",
   "execution_count": 206,
   "metadata": {},
   "outputs": [
    {
     "name": "stdout",
     "output_type": "stream",
     "text": [
      "50 trees were discarded due to negative branch lengths.\n",
      "NJ tree construction was completed.\n"
     ]
    }
   ],
   "source": [
    "# https://biopython.org/docs/dev/api/Bio.Phylo.TreeConstruction.html\n",
    "from Bio import AlignIO, Phylo\n",
    "from Bio.Phylo.TreeConstruction import DistanceCalculator, DistanceTreeConstructor\n",
    "\n",
    "# Tree construction with NJ method\n",
    "# All trees will be saved into one text file\n",
    "\n",
    "calculator = DistanceCalculator(\"blosum62\")\n",
    "\n",
    "trees_file = \"trees_np.txt\"\n",
    "\n",
    "# Initiate empty text file\n",
    "with open(trees_file, \"w\") as f:\n",
    "    pass\n",
    "\n",
    "trees_with_negative_lengths = 0\n",
    "\n",
    "with open(trees_file, \"a\") as f:\n",
    "    for cluster in cluster_names:\n",
    "        # Load aligned sequences\n",
    "        alignment = AlignIO.read(os.path.join(aln_folder, f\"aln_{cluster}.fasta\"), \"fasta\")\n",
    "        dm = calculator.get_distance(alignment)\n",
    "        constructor = DistanceTreeConstructor(calculator)\n",
    "        tree = constructor.nj(dm) # Construct and return a Neighbor Joining tree.\n",
    "\n",
    "        # Modify leaf names to first 4 letters (aliases)\n",
    "        for leaf in tree.get_terminals():\n",
    "            new_name = leaf.name[:4]\n",
    "            leaf.name = new_name\n",
    "        \n",
    "        # Remove internal node labels\n",
    "        for internal in tree.get_nonterminals():\n",
    "            internal.name = \"\"\n",
    "\n",
    "        # Check for negative branch lengths\n",
    "        if any(edge.branch_length is not None and edge.branch_length < 0 for edge in tree.find_clades()):\n",
    "            trees_with_negative_lengths += 1\n",
    "            continue\n",
    "\n",
    "        # Save the tree without internal node labels and branch lengths\n",
    "        # One tree per line\n",
    "        Phylo.write([tree], f, format=\"newick\")\n",
    "\n",
    "if trees_with_negative_lengths > 0:\n",
    "    print(f\"{trees_with_negative_lengths} trees were discarded due to negative branch lengths.\")\n",
    "else:\n",
    "    print(\"All trees were successfully saved.\")\n",
    "print(\"NJ tree construction was completed.\")"
   ]
  },
  {
   "cell_type": "markdown",
   "metadata": {},
   "source": [
    "## Part VI. Genome Tree\n",
    "\n",
    "Calculate the genome tree using the consensus method (resolve the issue with non-orthologous clusters) and the supertree method.\n"
   ]
  },
  {
   "cell_type": "markdown",
   "metadata": {},
   "source": [
    "### Consensus Tree\n",
    "\n",
    "DendroPy (https://dendropy.org/)\n",
    "\n",
    "- [Consensus function source code](https://dendropy.org/_modules/dendropy/datamodel/treecollectionmodel#TreeList.consensus)\n",
    "- [Tree List class usage](https://dendropy.org/library/treecollectionmodel.html#dendropy.datamodel.treecollectionmodel.TreeList.consensus)\n"
   ]
  },
  {
   "cell_type": "code",
   "execution_count": 15,
   "metadata": {},
   "outputs": [],
   "source": [
    "from dendropy import TaxonNamespace, TreeList"
   ]
  },
  {
   "cell_type": "code",
   "execution_count": 16,
   "metadata": {},
   "outputs": [],
   "source": [
    "# Initialize a TreeList object\n",
    "# Select trees that have a full set of taxa as leaves\n",
    "tlist = TreeList.get(path=\"trees_np.txt\",\n",
    "           schema=\"newick\",\n",
    "           rooting=\"default-unrooted\",\n",
    "           taxon_namespace=TaxonNamespace(aliases))\n",
    "\n",
    "with open(\"trees_cnp.txt\", \"w\") as f:\n",
    "    pass\n",
    "\n",
    "# All trees used to make consensus require to have the same set of taxa\n",
    "desired_num_leaves = len(aliases)\n",
    "\n",
    "# Open the output file in append mode\n",
    "with open(\"trees_cnp.txt\", \"a\") as outfile:\n",
    "    # Iterate through trees in the TreeList\n",
    "    for tree in tlist:\n",
    "        # Check the number of leaves\n",
    "        num_leaves = len(tree.leaf_nodes())\n",
    "\n",
    "        # If the number of leaves is equal to 23, append to the new file\n",
    "        if num_leaves == desired_num_leaves:\n",
    "            outfile.write(tree.as_string(schema=\"newick\"))\n",
    "\n",
    "# Read selected trees\n",
    "tlist = TreeList.get(path=\"trees_cnp.txt\",\n",
    "           schema=\"newick\",\n",
    "           rooting=\"default-unrooted\",\n",
    "           taxon_namespace=TaxonNamespace(aliases))"
   ]
  },
  {
   "cell_type": "code",
   "execution_count": 17,
   "metadata": {},
   "outputs": [
    {
     "data": {
      "text/plain": [
       "461"
      ]
     },
     "execution_count": 17,
     "metadata": {},
     "output_type": "execute_result"
    }
   ],
   "source": [
    "len(tlist)"
   ]
  },
  {
   "cell_type": "code",
   "execution_count": 26,
   "metadata": {},
   "outputs": [],
   "source": [
    "# Construct a majority consensus tree\n",
    "consensus_tree = tlist.consensus(min_freq=0.5, is_bipartitions_updated=True)"
   ]
  },
  {
   "cell_type": "code",
   "execution_count": 27,
   "metadata": {},
   "outputs": [
    {
     "data": {
      "text/plain": [
       "'(SRAT,SDEV,(SDOW,SENT,SPLU,SSUI,(LLAC,LCRE),(STHE,(SVES,SSAL)),(SEQU,(SLUT,SINF)),(SDYS,SPYO,SCAN),((SPNE,SPSE,SMIT),(SANG,(SCON,SINT)))));'"
      ]
     },
     "execution_count": 27,
     "metadata": {},
     "output_type": "execute_result"
    }
   ],
   "source": [
    "ctree = consensus_tree.as_string(schema=\"newick\")\n",
    "ctree = ctree.split()[1].rstrip()\n",
    "ctree"
   ]
  },
  {
   "cell_type": "code",
   "execution_count": 312,
   "metadata": {},
   "outputs": [],
   "source": [
    "with open(\"ctree_np.txt\", \"w\") as f:\n",
    "    f.write(ctree)"
   ]
  },
  {
   "cell_type": "markdown",
   "metadata": {},
   "source": [
    "\n",
    "\n",
    "### Supertree without Paralogs\n",
    "\n",
    "fasturec - https://bitbucket.org/pgor17/fasturec/src/master/\n",
    "\n",
    "A standard run (-Z heuristic):\n",
    "\n",
    "fasturec -G datasets/g3.txt -Z\n",
    "\n",
    ">Starts from the initial tree quasi-consensus tree (default) and executes a hill-climbing steps under the duplication-loss cost. Quasi-consensus tree is a simple tree reconstructed from cluster frequencies of the input gene trees. A mixture of NNI, SPR and TSW (leaf swapping) tree edit operations are applied."
   ]
  },
  {
   "cell_type": "code",
   "execution_count": null,
   "metadata": {
    "vscode": {
     "languageId": "shellscript"
    }
   },
   "outputs": [],
   "source": [
    "\n",
    "# ./run_fasturec.sh trees_np.txt\n"
   ]
  },
  {
   "cell_type": "code",
   "execution_count": 185,
   "metadata": {},
   "outputs": [],
   "source": [
    "# Read fasturec result\n",
    "with open(\"fu.txt\") as f:\n",
    "    for line in f.readlines():\n",
    "        stree_data = line\n",
    "        break\n"
   ]
  },
  {
   "cell_type": "code",
   "execution_count": 186,
   "metadata": {},
   "outputs": [
    {
     "name": "stdout",
     "output_type": "stream",
     "text": [
      "Supertree without paralogs: (((SINF,SLUT),(((((((SCON,SINT),SANG),(SMIT,(SPSE,SPNE))),(SSUI,SPLU)),(SENT,(LCRE,LLAC))),((SDOW,(STHE,(SSAL,SVES))),(SDEV,SRAT))),((SCAN,SDYS),SPYO))),SEQU);\n",
      "With cost 33899\n"
     ]
    }
   ],
   "source": [
    "cost, stree = stree_data.split()\n",
    "stree += \";\"\n",
    "print(f\"Supertree without paralogs: {stree}\\nWith cost {cost}\")"
   ]
  },
  {
   "cell_type": "code",
   "execution_count": 187,
   "metadata": {},
   "outputs": [],
   "source": [
    "with open(\"stree_np.txt\", \"w\") as f:\n",
    "    f.write(stree)"
   ]
  },
  {
   "cell_type": "markdown",
   "metadata": {},
   "source": [
    "## Part VII. Analysis\n",
    "\n",
    "Biological analysis. Compare with existing phylogenies of the tree for this set (literature), compare to NCBI taxonomy. Write a document summarizing the methods used and biological conclusions.\n"
   ]
  },
  {
   "cell_type": "markdown",
   "metadata": {},
   "source": [
    "### ML - Maximum Likelihood\n",
    "[PhyML 3.1](http://www.atgc-montpellier.fr/phyml/binaries.php)\n",
    "\n",
    "#### Analysis Settings\n",
    "- Starting tree: BioNJ\n",
    "- Bootstrap: 100 replicates\n",
    "- Tree improvement: NNI search\n",
    "\n",
    "#### Model Selection\n",
    "Chosen using modeltest and AIC\n",
    "\n",
    "| Gene | Model   |\n",
    "|------|---------|\n",
    "| sodA | WAG     |\n",
    "| tuf  | RtREV   |\n",
    "etc.\n"
   ]
  },
  {
   "cell_type": "code",
   "execution_count": null,
   "metadata": {},
   "outputs": [],
   "source": [
    "# Genes involved in the original Bayesian inference\n",
    "# ml_genes.txt"
   ]
  },
  {
   "cell_type": "code",
   "execution_count": 41,
   "metadata": {},
   "outputs": [],
   "source": [
    "import pandas as pd\n",
    "from Bio import Entrez, SeqIO\n",
    "import os"
   ]
  },
  {
   "cell_type": "code",
   "execution_count": 50,
   "metadata": {},
   "outputs": [
    {
     "data": {
      "text/plain": [
       "(['sodA', 'tuf'], ['protein', 'protein'], [100, 200], [300, 400])"
      ]
     },
     "execution_count": 50,
     "metadata": {},
     "output_type": "execute_result"
    }
   ],
   "source": [
    "genes_df = pd.read_csv(\"ml_genes.txt\", sep=\",\", names=[\"gene\", \"type\", \"min_len\", \"max_len\"])\n",
    "genes_list = list(genes_df[\"gene\"])\n",
    "types_list = list(genes_df[\"type\"])\n",
    "min_lens = list(genes_df[\"min_len\"])\n",
    "max_lens = list(genes_df[\"max_len\"])\n",
    "genes_list[:2], types_list[:2], min_lens[:2], max_lens[:2]"
   ]
  },
  {
   "cell_type": "code",
   "execution_count": 51,
   "metadata": {},
   "outputs": [
    {
     "data": {
      "text/plain": [
       "['Streptococcus ratti', 'Streptococcus downei', 'Streptococcus devriesei']"
      ]
     },
     "execution_count": 51,
     "metadata": {},
     "output_type": "execute_result"
    }
   ],
   "source": [
    "species_list = []\n",
    "with open(\"species.txt\", \"r\") as f:\n",
    "    for line in f.readlines():\n",
    "        species_list.append(line.rstrip())\n",
    "\n",
    "species_list[:3]"
   ]
  },
  {
   "cell_type": "code",
   "execution_count": 52,
   "metadata": {},
   "outputs": [],
   "source": [
    "\n",
    "\n",
    "def fetch_gene_sequences(species_list, gene_list, types_list, min_lengths, max_lengths, email):\n",
    "    Entrez.email = email  # Set your email address for Entrez\n",
    "\n",
    "    results = []\n",
    "\n",
    "    for i in range(len(gene_list)):\n",
    "        gene = genes_list[i]\n",
    "        # print(f\"Gene {gene}\")\n",
    "        for species in species_list:\n",
    "            # print(f\"Fetching for {species}\")\n",
    "\n",
    "            query = f'\"{gene}\" AND \"{species}\"[Organism]'\n",
    "\n",
    "            database = types_list[i] # protein or nucleotide\n",
    "\n",
    "            try:\n",
    "                handle = Entrez.esearch(db=database, term=query)\n",
    "                record = Entrez.read(handle)\n",
    "\n",
    "                if record[\"Count\"] == \"0\":\n",
    "                    print(f\"No sequences found for {gene} in {species}\")\n",
    "                else:\n",
    "                    for id in record[\"IdList\"]:\n",
    "                        \n",
    "                        seq_handle = Entrez.efetch(db=database, id=id, rettype=\"gb\", retmode=\"text\")\n",
    "                        seq_record = SeqIO.read(seq_handle, \"genbank\")\n",
    "\n",
    "                        if min_lengths[i] <= len(seq_record) <= max_lengths[i]:\n",
    "                            results.append({\n",
    "                                \"Gene\": gene,\n",
    "                                \"Species\": species,\n",
    "                                \"Sequence\": str(seq_record.seq),\n",
    "                                \"Accession\": seq_record.id,\n",
    "                                \"Alias\": ''.join([species.split()[0].upper()[0], species.split()[1].upper()[:3]])\n",
    "                            })\n",
    "                            # print(f\"Added {gene} entry for {species}\")\n",
    "                            break\n",
    "\n",
    "            except Exception as e:\n",
    "                print(f\"Error fetching data for {gene} in {species}: {e}\")\n",
    "\n",
    "    return results\n",
    "\n"
   ]
  },
  {
   "cell_type": "code",
   "execution_count": 58,
   "metadata": {},
   "outputs": [
    {
     "data": {
      "text/plain": [
       "{'Gene': 'sodA',\n",
       " 'Species': 'Streptococcus ratti',\n",
       " 'Sequence': 'YIDAETMTLHHDKHHATYVANANAALEKHPEIGENLEVLLADVEQIPADIRQSLINNGGGHLNHALFWELLSPEKTKVTAEVAAAINEAFGSFDDFKAAFTAAATTRFGSGWAWLVVDKEGKLEVTSTANQDTPISQGLKPILAL',\n",
       " 'Accession': 'BBC44607.1',\n",
       " 'Alias': 'SRAT'}"
      ]
     },
     "execution_count": 58,
     "metadata": {},
     "output_type": "execute_result"
    }
   ],
   "source": [
    "# Fetch sequences for ML tree inference\n",
    "email = \"y.park4@student.uw.edu.pl\"  # Provide your email address\n",
    "\n",
    "result_data = fetch_gene_sequences(species_list, genes_list, types_list, min_lens, max_lens, email)\n",
    "\n",
    "# Display the results\n",
    "result_data[0]"
   ]
  },
  {
   "cell_type": "code",
   "execution_count": 59,
   "metadata": {},
   "outputs": [],
   "source": [
    "# Save sequences to directory ml_sequences\n",
    "def save_fasta_files(result_data, genes_list, output_directory):\n",
    "    os.makedirs(output_directory, exist_ok=True)\n",
    "    for gene in genes_list:\n",
    "        output_file = os.path.join(output_directory, f\"{gene}.fasta\")\n",
    "        with open(output_file, \"w\") as f:\n",
    "            pass\n",
    "\n",
    "    for entry in result_data:\n",
    "        gene = entry[\"Gene\"]\n",
    "        sequence = entry[\"Sequence\"]\n",
    "        alias = entry[\"Alias\"]\n",
    "\n",
    "        output_file = os.path.join(output_directory, f\"{gene}.fasta\")\n",
    "\n",
    "        with open(output_file, \"a\") as fasta_file:\n",
    "            fasta_file.write(f\">{alias}\\n{sequence}\\n\")\n",
    "\n"
   ]
  },
  {
   "cell_type": "code",
   "execution_count": 60,
   "metadata": {},
   "outputs": [],
   "source": [
    "\n",
    "output_directory = \"sequences_ml\"\n",
    "\n",
    "save_fasta_files(result_data, genes_list, output_directory)"
   ]
  },
  {
   "cell_type": "code",
   "execution_count": 61,
   "metadata": {},
   "outputs": [
    {
     "name": "stdout",
     "output_type": "stream",
     "text": [
      "Alignment was successful\n"
     ]
    }
   ],
   "source": [
    "# Alignment for tree construction using ML\n",
    "from Bio.Align.Applications import MafftCommandline\n",
    "from Bio import AlignIO\n",
    "\n",
    "mafft_exe = os.path.join(\"mafft-7.520-win64-signed\", \"mafft-win\", \"mafft.bat\")\n",
    "aln_folder = \"alns_ml\"\n",
    "os.makedirs(aln_folder, exist_ok=True)\n",
    "\n",
    "seq_folder = \"sequences_ml\" # dir with clustered seqs\n",
    "\n",
    "for gene in genes_list:\n",
    "    mafft_in = os.path.join(seq_folder, f\"{gene}.fasta\")\n",
    "    mafft_out = os.path.join(aln_folder, f\"aln_{gene}.fasta\")\n",
    "\n",
    "    # Run Mafft for alignment\n",
    "    mafft_cline = MafftCommandline(mafft_exe, input=mafft_in)\n",
    "    stdout, stderr = mafft_cline(stdout=True)\n",
    "\n",
    "    # Write alignment to file\n",
    "    with open(mafft_out, \"w\") as handle:\n",
    "        handle.write(stdout)\n",
    "\n",
    "    # phylip_file = os.path.join(aln_folder, f\"aln_{gene}.phy\")\n",
    "    phylip_file = os.path.join(\"PhyML-3.1\", aln_folder, f\"aln_{gene}.phy\")\n",
    "\n",
    "    alignment = AlignIO.read(mafft_out, \"fasta\")\n",
    "    AlignIO.write(alignment, phylip_file, \"phylip-relaxed\")\n",
    "\n",
    "print(\"Alignment was successful\")"
   ]
  },
  {
   "cell_type": "code",
   "execution_count": 77,
   "metadata": {},
   "outputs": [],
   "source": [
    "from dendropy import TreeList, TaxonNamespace\n",
    "import os\n",
    "\n",
    "tlist = TreeList.get(path=os.path.join(\"PhyML-3.1\", \"aln_sodA.phy_phyml_tree.txt\"),\n",
    "           schema=\"newick\",\n",
    "           rooting=\"default-unrooted\",\n",
    "           taxon_namespace=TaxonNamespace(aliases))\n",
    "\n",
    "tlist = TreeList.get(path=os.path.join(\"PhyML-3.1\", \"aln_tuf.phy_phyml_tree.txt\"),\n",
    "           schema=\"newick\",\n",
    "           rooting=\"default-unrooted\",\n",
    "           taxon_namespace=TaxonNamespace(aliases))"
   ]
  },
  {
   "cell_type": "code",
   "execution_count": 78,
   "metadata": {},
   "outputs": [],
   "source": [
    "# Construct a majority consensus tree\n",
    "consensus_tree = tlist.consensus(min_freq=0.5)"
   ]
  },
  {
   "cell_type": "code",
   "execution_count": 79,
   "metadata": {},
   "outputs": [
    {
     "data": {
      "text/plain": [
       "'(SRAT,SDEV,(SPNE,(SDOW,((((LLAC,LCRE),((SINF,(STHE,(SVES,SSAL))),(SMIT,(SSUI,(SPSE,((SENT,SPLU),(SDYS,(SPYO,SCAN)))))))),(SEQU,SLUT)),(SINT,(SCON,SANG))))));'"
      ]
     },
     "execution_count": 79,
     "metadata": {},
     "output_type": "execute_result"
    }
   ],
   "source": [
    "ctree = consensus_tree.as_string(schema=\"newick\")\n",
    "ctree = ctree.split()[1].rstrip()\n",
    "ctree"
   ]
  },
  {
   "cell_type": "code",
   "execution_count": null,
   "metadata": {},
   "outputs": [],
   "source": [
    "with open(\"ml_tree2.txt\", \"w\") as f:\n",
    "    f.write(ctree)"
   ]
  },
  {
   "cell_type": "code",
   "execution_count": null,
   "metadata": {},
   "outputs": [],
   "source": [
    "# Final species ML tree in file\n",
    "# ml_tree.txt\n",
    "\n",
    "# Final Analysis in file\n",
    "# analysis.Rmd\n",
    "# analysis.pdf"
   ]
  },
  {
   "cell_type": "markdown",
   "metadata": {},
   "source": [
    "## Part Va. Bootstrapping\n",
    "\n",
    "Eliminate poorly supported trees using bootstrapping. Check if this yields better results than the method without elimination.\n",
    "\n",
    "### Bootstrap replicate trees from Bio.Phylo.Consensus.bootstrap_trees\n",
    "\n",
    "[Biopython Consensus source code](https://github.com/biopython/biopython/blob/master/Bio/Phylo/Consensus.py)\n",
    "\n",
    "### Sumtrees for replicate trees analysis for branch support\n",
    "\n",
    "[Dendropy SumTrees documentation](https://dendropy.org/programs/sumtrees)\n"
   ]
  },
  {
   "cell_type": "code",
   "execution_count": 38,
   "metadata": {},
   "outputs": [],
   "source": [
    "# https://biopython.org/wiki/Phylo\n",
    "# https://biopython.org/docs/dev/api/Bio.Phylo.TreeConstruction.html\n",
    "from Bio import AlignIO, Phylo\n",
    "from Bio.Phylo.TreeConstruction import DistanceCalculator, DistanceTreeConstructor\n",
    "from Bio.Phylo.Consensus import bootstrap_trees, get_support"
   ]
  },
  {
   "cell_type": "code",
   "execution_count": 28,
   "metadata": {},
   "outputs": [
    {
     "data": {
      "text/plain": [
       "2161"
      ]
     },
     "execution_count": 28,
     "metadata": {},
     "output_type": "execute_result"
    }
   ],
   "source": [
    "# Check if number of clusters is correct\n",
    "len(cluster_names)"
   ]
  },
  {
   "cell_type": "code",
   "execution_count": null,
   "metadata": {},
   "outputs": [],
   "source": [
    "# requires a python environment with dendropy (sumtrees.py) on Unix/WSL\n",
    "# run_bootstrap_analysis.py\n",
    "\n",
    "import subprocess\n",
    "from dendropy import Tree\n",
    "\n",
    "# Tree construction with NJ method\n",
    "# All trees will be saved into one text file\n",
    "\n",
    "aln_folder = \"alns\"\n",
    "\n",
    "times = 100\n",
    "\n",
    "calculator = DistanceCalculator(\"blosum62\")\n",
    "\n",
    "trees_file = \"trees_bnp.txt\"\n",
    "\n",
    "# Initiate empty text file\n",
    "with open(trees_file, \"w\") as f:\n",
    "    pass\n",
    "\n",
    "trees_with_negative_lengths = 0\n",
    "\n",
    "min_support = 0.9 # min, average or median\n",
    "low_sup_count = 0\n",
    "counter = 0\n",
    "\n",
    "for cluster in cluster_names:\n",
    "    counter += 1\n",
    "    print(f\"Tree {counter}/{len(cluster_names)}\")\n",
    "    # Load aligned sequences\n",
    "    alignment = AlignIO.read(os.path.join(aln_folder, f\"aln_{cluster}.fasta\"), \"fasta\")\n",
    "    dm = calculator.get_distance(alignment)\n",
    "    constructor = DistanceTreeConstructor(calculator, method='nj')\n",
    "    nj_tree = constructor.nj(dm)\n",
    "\n",
    "    # Check for negative branch lengths\n",
    "    if any(edge.branch_length is not None and edge.branch_length < 0 for edge in nj_tree.find_clades()):\n",
    "        trees_with_negative_lengths += 1\n",
    "        print(f\"Tree {counter} is nr {trees_with_negative_lengths} with negative lengths\")\n",
    "        continue\n",
    "\n",
    "\n",
    "    # If nj_tree is good - do pre-processing for bootstrapping        \n",
    "    for leaf in nj_tree.get_terminals():\n",
    "        new_name = leaf.name[:4]\n",
    "        leaf.name = new_name\n",
    "    \n",
    "    # Remove internal node labels\n",
    "    for internal in nj_tree.get_nonterminals():\n",
    "        internal.name = \"\"\n",
    "\n",
    "    # Create replicate trees\n",
    "    trees = bootstrap_trees(alignment, times, constructor)\n",
    "\n",
    "    with open(\"tmp_repltrees.txt\", \"w\") as f:\n",
    "        for replicate in list(trees):\n",
    "            for leaf in replicate.get_terminals():\n",
    "                new_name = leaf.name[:4]\n",
    "                leaf.name = new_name\n",
    "            for internal in replicate.get_nonterminals():\n",
    "                internal.name = \"\"\n",
    "            f.write(replicate.format(\"newick\"))\n",
    "\n",
    "    Phylo.write([nj_tree], \"tmp_nj_tree.txt\", format=\"newick\")\n",
    "\n",
    "    subprocess.run([\"sumtrees.py\",\n",
    "                    \"-t\", \"tmp_nj_tree.txt\",\n",
    "                    \"--unrooted\",\n",
    "                    \"-i\", \"newick\",\n",
    "                    \"-o\", \"tmp_boot.txt\",\n",
    "                    \"-F\", \"newick\",\n",
    "                    \"tmp_repltrees.txt\",\n",
    "                    \"-q\", \"-r\"])\n",
    "\n",
    "    bctree = Tree.get(path=\"tmp_boot.txt\", schema=\"newick\")\n",
    "\n",
    "\n",
    "    supports = []\n",
    "    for node in bctree.nodes():\n",
    "        supports.append(float(node.annotations[\"support\"].value))\n",
    "\n",
    "    # support_value = np.min(supports)\n",
    "    # support_value = np.median(supports)\n",
    "    support_value = np.mean(supports)\n",
    "\n",
    "    if support_value < min_support:\n",
    "        low_sup_count += 1\n",
    "        print(f\"Tree {counter} with {len(supports)} nodes is nr {low_sup_count} with low support: {support_value:.3f}\")\n",
    "        continue\n",
    "    else:\n",
    "        print(f\"Tree {counter} with {len(supports)} nodes has high support: {support_value:.3f}\")\n",
    "        with open(trees_file, \"a\") as f:\n",
    "            Phylo.write([nj_tree], f, format=\"newick\")\n",
    "\n",
    "\n",
    "if trees_with_negative_lengths > 0 or low_sup_count > 0:\n",
    "    print(f\"{trees_with_negative_lengths} trees were discarded due to negative branch lengths.\")\n",
    "    print(f\"{low_sup_count} trees were discarded due to low support.\")\n",
    "else:\n",
    "    print(\"All trees were successfully saved.\")\n",
    "print(\"NJ tree construction was completed.\")\n",
    "\n",
    "# \n",
    "# 50 trees with negative branches\n",
    "# 368 trees with low support"
   ]
  },
  {
   "cell_type": "markdown",
   "metadata": {},
   "source": [
    "### Consensus on bootstrap verified trees"
   ]
  },
  {
   "cell_type": "code",
   "execution_count": 10,
   "metadata": {},
   "outputs": [],
   "source": [
    "from dendropy import TreeList, TaxonNamespace\n",
    "\n",
    "# Initialize a TreeList object\n",
    "# Select trees that have a full set of taxa as leaves\n",
    "tlist = TreeList.get(path=\"trees_bnp.txt\",\n",
    "           schema=\"newick\",\n",
    "           rooting=\"default-unrooted\",\n",
    "           taxon_namespace=TaxonNamespace(aliases))\n",
    "\n",
    "with open(\"trees_bcnp.txt\", \"w\") as f:\n",
    "    pass\n",
    "\n",
    "# All trees used to make consensus require to have the same set of taxa\n",
    "desired_num_leaves = len(aliases)\n",
    "\n",
    "# Open the output file in append mode\n",
    "with open(\"trees_bcnp.txt\", \"a\") as outfile:\n",
    "    # Iterate through trees in the TreeList\n",
    "    for tree in tlist:\n",
    "        # Check the number of leaves\n",
    "        num_leaves = len(tree.leaf_nodes())\n",
    "\n",
    "        # If the number of leaves is equal to 23, append to the new file\n",
    "        if num_leaves == desired_num_leaves:\n",
    "            outfile.write(tree.as_string(schema=\"newick\"))\n",
    "\n",
    "# Read selected trees\n",
    "tlist = TreeList.get(path=\"trees_bcnp.txt\",\n",
    "           schema=\"newick\",\n",
    "           rooting=\"default-unrooted\",\n",
    "           taxon_namespace=TaxonNamespace(aliases))"
   ]
  },
  {
   "cell_type": "code",
   "execution_count": 11,
   "metadata": {},
   "outputs": [
    {
     "data": {
      "text/plain": [
       "206"
      ]
     },
     "execution_count": 11,
     "metadata": {},
     "output_type": "execute_result"
    }
   ],
   "source": [
    "len(tlist)"
   ]
  },
  {
   "cell_type": "code",
   "execution_count": 12,
   "metadata": {},
   "outputs": [],
   "source": [
    "# Construct a majority consensus tree\n",
    "consensus_tree = tlist.consensus(min_freq=0.5)"
   ]
  },
  {
   "cell_type": "code",
   "execution_count": 13,
   "metadata": {},
   "outputs": [
    {
     "data": {
      "text/plain": [
       "'(SRAT,SDEV,(SDOW,SENT,SPLU,SSUI,(LLAC,LCRE),(STHE,(SVES,SSAL)),(SEQU,(SLUT,SINF)),(SDYS,SPYO,SCAN),((SMIT,(SPNE,SPSE)),(SANG,(SCON,SINT)))));'"
      ]
     },
     "execution_count": 13,
     "metadata": {},
     "output_type": "execute_result"
    }
   ],
   "source": [
    "ctree = consensus_tree.as_string(schema=\"newick\")\n",
    "ctree = ctree.split()[1].rstrip()\n",
    "ctree"
   ]
  },
  {
   "cell_type": "code",
   "execution_count": 14,
   "metadata": {},
   "outputs": [],
   "source": [
    "with open(\"bctree_np.txt\", \"w\") as f:\n",
    "    f.write(ctree)"
   ]
  },
  {
   "cell_type": "markdown",
   "metadata": {},
   "source": [
    "### Supertree with bootstrap verified trees"
   ]
  },
  {
   "cell_type": "code",
   "execution_count": null,
   "metadata": {},
   "outputs": [],
   "source": [
    "# ./run_fasturec.sh trees_bnp.txt"
   ]
  },
  {
   "cell_type": "code",
   "execution_count": 1,
   "metadata": {},
   "outputs": [],
   "source": [
    "# Read fasturec result\n",
    "with open(\"fu.txt\") as f:\n",
    "    for line in f.readlines():\n",
    "        stree_data = line\n",
    "        break\n"
   ]
  },
  {
   "cell_type": "code",
   "execution_count": 2,
   "metadata": {},
   "outputs": [
    {
     "name": "stdout",
     "output_type": "stream",
     "text": [
      "Supertree without paralogs: (((((((((SINF,SLUT),SEQU),(STHE,(SSAL,SVES))),(SDOW,(SDEV,SRAT))),((SENT,SPLU),((SCAN,SDYS),SPYO))),((LCRE,LLAC),SSUI)),(SMIT,(SPSE,SPNE))),(SCON,SINT)),SANG);\n",
      "With cost 22114\n"
     ]
    }
   ],
   "source": [
    "cost, stree = stree_data.split()\n",
    "stree += \";\"\n",
    "print(f\"Supertree without paralogs: {stree}\\nWith cost {cost}\")"
   ]
  },
  {
   "cell_type": "code",
   "execution_count": 3,
   "metadata": {},
   "outputs": [],
   "source": [
    "with open(\"bstree_np.txt\", \"w\") as f:\n",
    "    f.write(stree)"
   ]
  },
  {
   "cell_type": "markdown",
   "metadata": {},
   "source": [
    "## Part Vb. Paralog Families\n",
    "\n",
    "Apply clusters without removing sequences, allowing for paralogs. Calculate the supertree and compare with the results for \"1-1\" clusters.\n",
    "\n",
    "### Supertree with Paralogs\n"
   ]
  },
  {
   "cell_type": "code",
   "execution_count": 153,
   "metadata": {},
   "outputs": [],
   "source": [
    "# Save clusters with paralogs, no singletons\n",
    "df_mmseqs.head()\n",
    "\n",
    "# Select clusters having more than one element (filter out singletons)\n",
    "cluster_counts = df_mmseqs['Cluster'].value_counts()\n",
    "# Minimum size of clusters\n",
    "min_size = 1\n",
    "non_singleton_clusters = cluster_counts[cluster_counts > min_size].index\n",
    "df_sel = df_mmseqs[df_mmseqs['Cluster'].isin(non_singleton_clusters)]\n"
   ]
  },
  {
   "cell_type": "code",
   "execution_count": 154,
   "metadata": {},
   "outputs": [
    {
     "data": {
      "image/png": "[encoded data removed]",
      "text/plain": [
       "<Figure size 640x480 with 1 Axes>"
      ]
     },
     "metadata": {},
     "output_type": "display_data"
    }
   ],
   "source": [
    "# Visualize for verification\n",
    "max_clip = 30\n",
    "# df_tmp = np.clip(df_mmseqs[\"Cluster\"].value_counts(), 0, max_clip)\n",
    "df_tmp = np.clip(df_sel[\"Cluster\"].value_counts(), 0, max_clip)\n",
    "\n",
    "plt.hist(df_tmp, bins=max(df_tmp))\n",
    "\n",
    "labels = [int(label) for label in plt.xticks()[0]]\n",
    "labels[-2] = f\"{max_clip}+\"\n",
    "plt.xticks(plt.xticks()[0], labels)\n",
    "plt.xlim(1, max(df_tmp))\n",
    "\n",
    "plt.title(f\"mmseqs: {len(df_tmp)} clusters with no singletons and unique-genome duplets\")\n",
    "plt.xlabel(\"Cluster size\")\n",
    "plt.ylabel(\"Frequency\")\n",
    "\n",
    "plt.show()"
   ]
  },
  {
   "cell_type": "code",
   "execution_count": 156,
   "metadata": {},
   "outputs": [
    {
     "data": {
      "text/html": [
       "<div>\n",
       "<style scoped>\n",
       "    .dataframe tbody tr th:only-of-type {\n",
       "        vertical-align: middle;\n",
       "    }\n",
       "\n",
       "    .dataframe tbody tr th {\n",
       "        vertical-align: top;\n",
       "    }\n",
       "\n",
       "    .dataframe thead th {\n",
       "        text-align: right;\n",
       "    }\n",
       "</style>\n",
       "<table border=\"1\" class=\"dataframe\">\n",
       "  <thead>\n",
       "    <tr style=\"text-align: right;\">\n",
       "      <th></th>\n",
       "      <th>Cluster</th>\n",
       "      <th>Member</th>\n",
       "      <th>Seq</th>\n",
       "    </tr>\n",
       "  </thead>\n",
       "  <tbody>\n",
       "    <tr>\n",
       "      <th>0</th>\n",
       "      <td>SINF_1238</td>\n",
       "      <td>SINF_1238</td>\n",
       "      <td>MSDIELDFAKQDGLLPVIVTDYKTGQVLMLAYMNEEAYRLTLETKQ...</td>\n",
       "    </tr>\n",
       "    <tr>\n",
       "      <th>1</th>\n",
       "      <td>SINF_1238</td>\n",
       "      <td>SRAT_620</td>\n",
       "      <td>MTDFKLDFEKQNGLVPVIVTDYQTNQVLMLAYMNQEAYQLTLETKQ...</td>\n",
       "    </tr>\n",
       "    <tr>\n",
       "      <th>2</th>\n",
       "      <td>SINF_1238</td>\n",
       "      <td>SDOW_635</td>\n",
       "      <td>MTEITLDFAKQGGLIPVIVTDYQTGQVLMLAYMNQESYDLTLKTKE...</td>\n",
       "    </tr>\n",
       "    <tr>\n",
       "      <th>3</th>\n",
       "      <td>SINF_1238</td>\n",
       "      <td>SDEV_1472</td>\n",
       "      <td>MTDIQLDFAKQDGLIPVIVTDYQTGQVLMLAYMNEESYQLTLETKQ...</td>\n",
       "    </tr>\n",
       "    <tr>\n",
       "      <th>4</th>\n",
       "      <td>SINF_1238</td>\n",
       "      <td>SEQU_335</td>\n",
       "      <td>MSEIKLDFAKQGGLLPVIVTDYQTGQVLMLAYMNEEAYRLTLETKQ...</td>\n",
       "    </tr>\n",
       "  </tbody>\n",
       "</table>\n",
       "</div>"
      ],
      "text/plain": [
       "     Cluster     Member                                                Seq\n",
       "0  SINF_1238  SINF_1238  MSDIELDFAKQDGLLPVIVTDYKTGQVLMLAYMNEEAYRLTLETKQ...\n",
       "1  SINF_1238   SRAT_620  MTDFKLDFEKQNGLVPVIVTDYQTNQVLMLAYMNQEAYQLTLETKQ...\n",
       "2  SINF_1238   SDOW_635  MTEITLDFAKQGGLIPVIVTDYQTGQVLMLAYMNQESYDLTLKTKE...\n",
       "3  SINF_1238  SDEV_1472  MTDIQLDFAKQDGLIPVIVTDYQTGQVLMLAYMNEESYQLTLETKQ...\n",
       "4  SINF_1238   SEQU_335  MSEIKLDFAKQGGLLPVIVTDYQTGQVLMLAYMNEEAYRLTLETKQ..."
      ]
     },
     "execution_count": 156,
     "metadata": {},
     "output_type": "execute_result"
    }
   ],
   "source": [
    "df_cls = pd.merge(df_sel, df_seq, left_on='Member', right_on='id', how='left')\n",
    "df_cls.drop(\"id\", inplace=True, axis=1)\n",
    "df_cls.head()"
   ]
  },
  {
   "cell_type": "code",
   "execution_count": 157,
   "metadata": {},
   "outputs": [
    {
     "name": "stdout",
     "output_type": "stream",
     "text": [
      "4265 cluster sequences saved to sequences_para\n"
     ]
    }
   ],
   "source": [
    "\n",
    "seq_folder = \"sequences_para\"\n",
    "os.makedirs(seq_folder, exist_ok=True)\n",
    "\n",
    "i = 0\n",
    "# Iterate through unique clusters in df_cls\n",
    "for cluster_id in df_cls['Cluster'].unique():\n",
    "    # Filter df_cls for the current cluster\n",
    "    cluster_df = df_cls[df_cls['Cluster'] == cluster_id]\n",
    "\n",
    "    # Create a list of SeqRecords for the current cluster\n",
    "    cluster_records = []\n",
    "    for _, row in cluster_df.iterrows():\n",
    "        record_id = row['Member']\n",
    "        sequence = Seq(row['Seq'])\n",
    "        cluster_records.append(SeqRecord(seq=sequence, id=record_id, description=''))\n",
    "\n",
    "    # Write the SeqRecords to a fasta file named after the cluster\n",
    "    output_file_path = os.path.join(seq_folder, f\"{cluster_id}.fasta\")\n",
    "    SeqIO.write(cluster_records, output_file_path, 'fasta')\n",
    "\n",
    "    i += 1\n",
    "\n",
    "print(f\"{i} cluster sequences saved to {seq_folder}\")"
   ]
  },
  {
   "cell_type": "code",
   "execution_count": 158,
   "metadata": {},
   "outputs": [
    {
     "data": {
      "text/plain": [
       "['SINF_1238', 'SINF_1466', 'SINF_1468']"
      ]
     },
     "execution_count": 158,
     "metadata": {},
     "output_type": "execute_result"
    }
   ],
   "source": [
    "cluster_names = list(df_cls[\"Cluster\"].unique())\n",
    "cluster_names[:3]"
   ]
  },
  {
   "cell_type": "code",
   "execution_count": 159,
   "metadata": {},
   "outputs": [
    {
     "name": "stdout",
     "output_type": "stream",
     "text": [
      "Alignment was successful\n"
     ]
    }
   ],
   "source": [
    "# Alignment for tree construction with NJ method\n",
    "from Bio.Align.Applications import MafftCommandline\n",
    "\n",
    "mafft_exe = os.path.join(\"mafft-7.520-win64-signed\", \"mafft-win\", \"mafft.bat\")\n",
    "aln_folder = \"alns_para\"\n",
    "os.makedirs(aln_folder, exist_ok=True)\n",
    "\n",
    "for cluster in cluster_names:\n",
    "    mafft_in = os.path.join(seq_folder, f\"{cluster}.fasta\")\n",
    "    mafft_out = os.path.join(aln_folder, f\"aln_{cluster}.fasta\")\n",
    "    \n",
    "    # Run Mafft for alignment\n",
    "    mafft_cline = MafftCommandline(mafft_exe, input=mafft_in)\n",
    "    stdout, stderr = mafft_cline(stdout=True)\n",
    "\n",
    "    # Write alignment to file\n",
    "    with open(mafft_out, \"w\") as handle:\n",
    "        handle.write(stdout)\n",
    "\n",
    "print(\"Alignment was successful\")"
   ]
  },
  {
   "cell_type": "code",
   "execution_count": 160,
   "metadata": {},
   "outputs": [
    {
     "name": "stdout",
     "output_type": "stream",
     "text": [
      "78 trees were discarded due to negative branch lengths.\n",
      "NJ tree construction was completed.\n"
     ]
    }
   ],
   "source": [
    "# https://biopython.org/docs/dev/api/Bio.Phylo.TreeConstruction.html\n",
    "from Bio import AlignIO, Phylo\n",
    "from Bio.Phylo.TreeConstruction import DistanceCalculator, DistanceTreeConstructor\n",
    "\n",
    "# Tree construction with NJ method\n",
    "# All trees will be saved into one text file\n",
    "\n",
    "calculator = DistanceCalculator(\"blosum62\")\n",
    "\n",
    "trees_file = \"trees_p.txt\"\n",
    "\n",
    "# Initiate empty text file\n",
    "with open(trees_file, \"w\") as f:\n",
    "    pass\n",
    "\n",
    "trees_with_negative_lengths = 0\n",
    "\n",
    "with open(trees_file, \"a\") as f:\n",
    "    for cluster in cluster_names:\n",
    "        # Load aligned sequences\n",
    "        alignment = AlignIO.read(os.path.join(aln_folder, f\"aln_{cluster}.fasta\"), \"fasta\")\n",
    "        dm = calculator.get_distance(alignment)\n",
    "        constructor = DistanceTreeConstructor(calculator)\n",
    "        tree = constructor.nj(dm) # Construct and return a Neighbor Joining tree.\n",
    "\n",
    "        # Modify leaf names to first 4 letters (aliases)\n",
    "        for leaf in tree.get_terminals():\n",
    "            new_name = leaf.name[:4]\n",
    "            leaf.name = new_name\n",
    "        \n",
    "        # Remove internal node labels\n",
    "        for internal in tree.get_nonterminals():\n",
    "            internal.name = \"\"\n",
    "\n",
    "        # Check for negative branch lengths\n",
    "        if any(edge.branch_length is not None and edge.branch_length < 0 for edge in tree.find_clades()):\n",
    "            trees_with_negative_lengths += 1\n",
    "            continue\n",
    "\n",
    "        # Save the tree without internal node labels and branch lengths\n",
    "        # One tree per line\n",
    "        Phylo.write([tree], f, format=\"newick\")\n",
    "\n",
    "if trees_with_negative_lengths > 0:\n",
    "    print(f\"{trees_with_negative_lengths} trees were discarded due to negative branch lengths.\")\n",
    "else:\n",
    "    print(\"All trees were successfully saved.\")\n",
    "print(\"NJ tree construction was completed.\")"
   ]
  },
  {
   "cell_type": "code",
   "execution_count": null,
   "metadata": {
    "vscode": {
     "languageId": "shellscript"
    }
   },
   "outputs": [],
   "source": [
    "\n",
    "# ./run_fasturec.sh trees_p.txt\n"
   ]
  },
  {
   "cell_type": "code",
   "execution_count": 188,
   "metadata": {},
   "outputs": [],
   "source": [
    "# Read fasturec result\n",
    "with open(\"fu.txt\") as f:\n",
    "    for line in f.readlines():\n",
    "        stree_data = line\n",
    "        break"
   ]
  },
  {
   "cell_type": "code",
   "execution_count": 189,
   "metadata": {},
   "outputs": [
    {
     "name": "stdout",
     "output_type": "stream",
     "text": [
      "Supertree without paralogs: ((((((SDEV,SRAT),(SDOW,((SSAL,SVES),STHE))),((SEQU,(SLUT,SINF)),((SCAN,SDYS),SPYO))),((SSUI,SPLU),((SANG,(SCON,SINT)),(SMIT,(SPSE,SPNE))))),SENT),(LLAC,LCRE));\n",
      "With cost 53205\n"
     ]
    }
   ],
   "source": [
    "cost, stree = stree_data.split()\n",
    "stree += \";\"\n",
    "print(f\"Supertree without paralogs: {stree}\\nWith cost {cost}\")"
   ]
  },
  {
   "cell_type": "code",
   "execution_count": 190,
   "metadata": {},
   "outputs": [],
   "source": [
    "with open(\"stree_p.txt\", \"w\") as f:\n",
    "    f.write(stree)"
   ]
  },
  {
   "cell_type": "markdown",
   "metadata": {},
   "source": [
    "\n",
    "## Dodatkowe informacje.\n",
    "\n",
    "Wyślij na moodle wyniki całego pipeline’u, który powinien być w dużym stopniu zautomatyzowany i najlepiej zrównoleglony; można używać narzędzi do pipelinowania np. snakemake. Wymagane:\n",
    "\n",
    "- skrytpy (bash, python, etc.)\n",
    "\n",
    "- dokument z wynikami (nie dane!) format odt, doc, pdf\n",
    "\n",
    "- README - opis jak używać skrypty\n",
    "\n",
    "- drzewa genów w jednym pliku + plik z drzewem gatunków: format newick\n",
    "\n",
    "- jeśli więcej wariantów obliczeń, np. V.a, V.b - dodaj więcej plików drzew\n",
    "\n",
    "\n",
    "\n",
    "## Cennik\n",
    "Max. 40 pkt, w tym 27pkt bazowe + 2x4 pkt bonusów (opisanych powyżej) + 5 prezentacja na ostatnim wykładzie/labie\n",
    "\n",
    "Prezentacja ok. 15-25. min; wysyłka wyników na moodle maks. dzień przed\n",
    "\n",
    "w przypadku braku prezentacji, wymagana jest prezentacja osobista do końca sesji I (termin I)  lub do końca sesji II (termin II) po uprzednim przesłaniu projektów i umówieniu się,\n",
    "\n",
    "w przypadku większej liczby zainteresowanych w sesji wyznaczę termin dodatkowy na prezentacje ale bez bonusu 5pkt"
   ]
  }
 ],
 "metadata": {
  "kernelspec": {
   "display_name": "Python 3",
   "language": "python",
   "name": "python3"
  },
  "language_info": {
   "codemirror_mode": {
    "name": "ipython",
    "version": 3
   },
   "file_extension": ".py",
   "mimetype": "text/x-python",
   "name": "python",
   "nbconvert_exporter": "python",
   "pygments_lexer": "ipython3",
   "version": "3.9.0"
  }
 },
 "nbformat": 4,
 "nbformat_minor": 2
}
